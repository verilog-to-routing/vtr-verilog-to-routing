{
  "nbformat": 4,
  "nbformat_minor": 0,
  "metadata": {
    "colab": {
      "name": "SinhaR-RnDCode_ML_Classifiers.ipynb",
      "provenance": [],
      "collapsed_sections": []
    },
    "kernelspec": {
      "name": "python3",
      "display_name": "Python 3"
    },
    "language_info": {
      "name": "python"
    }
  },
  "cells": [
    {
      "cell_type": "markdown",
      "source": [
        "#Importing Libraries*\n",
        "\n",
        "* sklearn libraries are used to train and test machine learning models [1].\n"
      ],
      "metadata": {
        "id": "kc093ox-ycqp"
      }
    },
    {
      "cell_type": "code",
      "execution_count": 3,
      "metadata": {
        "id": "XdZKB8pGc-Rz"
      },
      "outputs": [],
      "source": [
        "import numpy as np\n",
        "import pandas as pd\n",
        "from sklearn.model_selection import train_test_split\n",
        "from sklearn.preprocessing import StandardScaler\n",
        "from sklearn.linear_model import LogisticRegression\n",
        "from sklearn.svm import SVC\n",
        "from sklearn.ensemble import RandomForestClassifier\n",
        "from sklearn.neighbors import KNeighborsClassifier\n",
        "from sklearn.linear_model import SGDClassifier\n",
        "from sklearn.tree import DecisionTreeClassifier\n",
        "from sklearn.neural_network import MLPClassifier\n",
        "from sklearn.ensemble import AdaBoostClassifier\n",
        "from sklearn.ensemble import GradientBoostingClassifier\n",
        "from sklearn.pipeline import make_pipeline\n",
        "from sklearn.svm import SVC\n",
        "from sklearn.naive_bayes import GaussianNB\n",
        "from sklearn.naive_bayes import MultinomialNB\n",
        "from sklearn.metrics import accuracy_score\n",
        "from sklearn.metrics import classification_report\n",
        "from sklearn.metrics import precision_score\n",
        "from sklearn.metrics import recall_score\n",
        "from sklearn import preprocessing\n",
        "from sklearn import metrics \n",
        "import re\n",
        "import seaborn as sns\n",
        "import matplotlib.pyplot as plt\n",
        "%matplotlib inline"
      ]
    },
    {
      "cell_type": "markdown",
      "source": [
        "#Reading the Data set"
      ],
      "metadata": {
        "id": "e9a_dG_VzURS"
      }
    },
    {
      "cell_type": "code",
      "source": [
        "df = pd.read_csv('Combined_D3.csv') #change the file name to use different data sets\n",
        "df.sample(5)"
      ],
      "metadata": {
        "colab": {
          "base_uri": "https://localhost:8080/",
          "height": 204
        },
        "id": "rv6HNLuozMO7",
        "outputId": "ee3bd36c-7205-4ba5-d7cc-4c7eeb7f2580"
      },
      "execution_count": 4,
      "outputs": [
        {
          "output_type": "execute_result",
          "data": {
            "text/plain": [
              "    num_memories  num_mult  num_pre_packed_blocks  critical_path_delay  \\\n",
              "49             0        11                  31628             17.96240   \n",
              "88             0         9                   2783              5.02081   \n",
              "42             2         1                   4310             14.42380   \n",
              "34             0        11                  31683             18.53870   \n",
              "27             2         1                   4310             14.01300   \n",
              "\n",
              "    Ratio Percentage  \n",
              "49               1.0  \n",
              "88               0.9  \n",
              "42               1.0  \n",
              "34               1.0  \n",
              "27               1.0  "
            ],
            "text/html": [
              "\n",
              "  <div id=\"df-f26386c5-dfe0-4bd8-8469-15d62e5ce56b\">\n",
              "    <div class=\"colab-df-container\">\n",
              "      <div>\n",
              "<style scoped>\n",
              "    .dataframe tbody tr th:only-of-type {\n",
              "        vertical-align: middle;\n",
              "    }\n",
              "\n",
              "    .dataframe tbody tr th {\n",
              "        vertical-align: top;\n",
              "    }\n",
              "\n",
              "    .dataframe thead th {\n",
              "        text-align: right;\n",
              "    }\n",
              "</style>\n",
              "<table border=\"1\" class=\"dataframe\">\n",
              "  <thead>\n",
              "    <tr style=\"text-align: right;\">\n",
              "      <th></th>\n",
              "      <th>num_memories</th>\n",
              "      <th>num_mult</th>\n",
              "      <th>num_pre_packed_blocks</th>\n",
              "      <th>critical_path_delay</th>\n",
              "      <th>Ratio Percentage</th>\n",
              "    </tr>\n",
              "  </thead>\n",
              "  <tbody>\n",
              "    <tr>\n",
              "      <th>49</th>\n",
              "      <td>0</td>\n",
              "      <td>11</td>\n",
              "      <td>31628</td>\n",
              "      <td>17.96240</td>\n",
              "      <td>1.0</td>\n",
              "    </tr>\n",
              "    <tr>\n",
              "      <th>88</th>\n",
              "      <td>0</td>\n",
              "      <td>9</td>\n",
              "      <td>2783</td>\n",
              "      <td>5.02081</td>\n",
              "      <td>0.9</td>\n",
              "    </tr>\n",
              "    <tr>\n",
              "      <th>42</th>\n",
              "      <td>2</td>\n",
              "      <td>1</td>\n",
              "      <td>4310</td>\n",
              "      <td>14.42380</td>\n",
              "      <td>1.0</td>\n",
              "    </tr>\n",
              "    <tr>\n",
              "      <th>34</th>\n",
              "      <td>0</td>\n",
              "      <td>11</td>\n",
              "      <td>31683</td>\n",
              "      <td>18.53870</td>\n",
              "      <td>1.0</td>\n",
              "    </tr>\n",
              "    <tr>\n",
              "      <th>27</th>\n",
              "      <td>2</td>\n",
              "      <td>1</td>\n",
              "      <td>4310</td>\n",
              "      <td>14.01300</td>\n",
              "      <td>1.0</td>\n",
              "    </tr>\n",
              "  </tbody>\n",
              "</table>\n",
              "</div>\n",
              "      <button class=\"colab-df-convert\" onclick=\"convertToInteractive('df-f26386c5-dfe0-4bd8-8469-15d62e5ce56b')\"\n",
              "              title=\"Convert this dataframe to an interactive table.\"\n",
              "              style=\"display:none;\">\n",
              "        \n",
              "  <svg xmlns=\"http://www.w3.org/2000/svg\" height=\"24px\"viewBox=\"0 0 24 24\"\n",
              "       width=\"24px\">\n",
              "    <path d=\"M0 0h24v24H0V0z\" fill=\"none\"/>\n",
              "    <path d=\"M18.56 5.44l.94 2.06.94-2.06 2.06-.94-2.06-.94-.94-2.06-.94 2.06-2.06.94zm-11 1L8.5 8.5l.94-2.06 2.06-.94-2.06-.94L8.5 2.5l-.94 2.06-2.06.94zm10 10l.94 2.06.94-2.06 2.06-.94-2.06-.94-.94-2.06-.94 2.06-2.06.94z\"/><path d=\"M17.41 7.96l-1.37-1.37c-.4-.4-.92-.59-1.43-.59-.52 0-1.04.2-1.43.59L10.3 9.45l-7.72 7.72c-.78.78-.78 2.05 0 2.83L4 21.41c.39.39.9.59 1.41.59.51 0 1.02-.2 1.41-.59l7.78-7.78 2.81-2.81c.8-.78.8-2.07 0-2.86zM5.41 20L4 18.59l7.72-7.72 1.47 1.35L5.41 20z\"/>\n",
              "  </svg>\n",
              "      </button>\n",
              "      \n",
              "  <style>\n",
              "    .colab-df-container {\n",
              "      display:flex;\n",
              "      flex-wrap:wrap;\n",
              "      gap: 12px;\n",
              "    }\n",
              "\n",
              "    .colab-df-convert {\n",
              "      background-color: #E8F0FE;\n",
              "      border: none;\n",
              "      border-radius: 50%;\n",
              "      cursor: pointer;\n",
              "      display: none;\n",
              "      fill: #1967D2;\n",
              "      height: 32px;\n",
              "      padding: 0 0 0 0;\n",
              "      width: 32px;\n",
              "    }\n",
              "\n",
              "    .colab-df-convert:hover {\n",
              "      background-color: #E2EBFA;\n",
              "      box-shadow: 0px 1px 2px rgba(60, 64, 67, 0.3), 0px 1px 3px 1px rgba(60, 64, 67, 0.15);\n",
              "      fill: #174EA6;\n",
              "    }\n",
              "\n",
              "    [theme=dark] .colab-df-convert {\n",
              "      background-color: #3B4455;\n",
              "      fill: #D2E3FC;\n",
              "    }\n",
              "\n",
              "    [theme=dark] .colab-df-convert:hover {\n",
              "      background-color: #434B5C;\n",
              "      box-shadow: 0px 1px 3px 1px rgba(0, 0, 0, 0.15);\n",
              "      filter: drop-shadow(0px 1px 2px rgba(0, 0, 0, 0.3));\n",
              "      fill: #FFFFFF;\n",
              "    }\n",
              "  </style>\n",
              "\n",
              "      <script>\n",
              "        const buttonEl =\n",
              "          document.querySelector('#df-f26386c5-dfe0-4bd8-8469-15d62e5ce56b button.colab-df-convert');\n",
              "        buttonEl.style.display =\n",
              "          google.colab.kernel.accessAllowed ? 'block' : 'none';\n",
              "\n",
              "        async function convertToInteractive(key) {\n",
              "          const element = document.querySelector('#df-f26386c5-dfe0-4bd8-8469-15d62e5ce56b');\n",
              "          const dataTable =\n",
              "            await google.colab.kernel.invokeFunction('convertToInteractive',\n",
              "                                                     [key], {});\n",
              "          if (!dataTable) return;\n",
              "\n",
              "          const docLinkHtml = 'Like what you see? Visit the ' +\n",
              "            '<a target=\"_blank\" href=https://colab.research.google.com/notebooks/data_table.ipynb>data table notebook</a>'\n",
              "            + ' to learn more about interactive tables.';\n",
              "          element.innerHTML = '';\n",
              "          dataTable['output_type'] = 'display_data';\n",
              "          await google.colab.output.renderOutput(dataTable, element);\n",
              "          const docLink = document.createElement('div');\n",
              "          docLink.innerHTML = docLinkHtml;\n",
              "          element.appendChild(docLink);\n",
              "        }\n",
              "      </script>\n",
              "    </div>\n",
              "  </div>\n",
              "  "
            ]
          },
          "metadata": {},
          "execution_count": 4
        }
      ]
    },
    {
      "cell_type": "markdown",
      "source": [
        "#Pre-processing the data"
      ],
      "metadata": {
        "id": "AcdR4rQ-1XBi"
      }
    },
    {
      "cell_type": "markdown",
      "source": [
        "##Data Encoding"
      ],
      "metadata": {
        "id": "NaEjXCMwy2CS"
      }
    },
    {
      "cell_type": "code",
      "source": [
        "encoding_lable = preprocessing.LabelEncoder()\n",
        "df['Ratio Class']= encoding_lable.fit_transform(df['Ratio Percentage'])\n",
        "df = df.drop(columns='Ratio Percentage')\n",
        "df.sample(5)"
      ],
      "metadata": {
        "colab": {
          "base_uri": "https://localhost:8080/",
          "height": 204
        },
        "id": "jAbzF8QoABWc",
        "outputId": "49cd8652-57c8-412b-ce04-43b06de89be1"
      },
      "execution_count": 5,
      "outputs": [
        {
          "output_type": "execute_result",
          "data": {
            "text/plain": [
              "    num_memories  num_mult  num_pre_packed_blocks  critical_path_delay  \\\n",
              "33             0        11                  31683             19.14370   \n",
              "82             0         5                    923             22.23730   \n",
              "5              0         0                    360              6.89894   \n",
              "95             0         9                   2783              4.85355   \n",
              "67             2         1                   4338             14.61620   \n",
              "\n",
              "    Ratio Class  \n",
              "33            8  \n",
              "82            8  \n",
              "5             0  \n",
              "95            6  \n",
              "67            8  "
            ],
            "text/html": [
              "\n",
              "  <div id=\"df-ce45478d-e330-4452-aa6f-16cea27698cb\">\n",
              "    <div class=\"colab-df-container\">\n",
              "      <div>\n",
              "<style scoped>\n",
              "    .dataframe tbody tr th:only-of-type {\n",
              "        vertical-align: middle;\n",
              "    }\n",
              "\n",
              "    .dataframe tbody tr th {\n",
              "        vertical-align: top;\n",
              "    }\n",
              "\n",
              "    .dataframe thead th {\n",
              "        text-align: right;\n",
              "    }\n",
              "</style>\n",
              "<table border=\"1\" class=\"dataframe\">\n",
              "  <thead>\n",
              "    <tr style=\"text-align: right;\">\n",
              "      <th></th>\n",
              "      <th>num_memories</th>\n",
              "      <th>num_mult</th>\n",
              "      <th>num_pre_packed_blocks</th>\n",
              "      <th>critical_path_delay</th>\n",
              "      <th>Ratio Class</th>\n",
              "    </tr>\n",
              "  </thead>\n",
              "  <tbody>\n",
              "    <tr>\n",
              "      <th>33</th>\n",
              "      <td>0</td>\n",
              "      <td>11</td>\n",
              "      <td>31683</td>\n",
              "      <td>19.14370</td>\n",
              "      <td>8</td>\n",
              "    </tr>\n",
              "    <tr>\n",
              "      <th>82</th>\n",
              "      <td>0</td>\n",
              "      <td>5</td>\n",
              "      <td>923</td>\n",
              "      <td>22.23730</td>\n",
              "      <td>8</td>\n",
              "    </tr>\n",
              "    <tr>\n",
              "      <th>5</th>\n",
              "      <td>0</td>\n",
              "      <td>0</td>\n",
              "      <td>360</td>\n",
              "      <td>6.89894</td>\n",
              "      <td>0</td>\n",
              "    </tr>\n",
              "    <tr>\n",
              "      <th>95</th>\n",
              "      <td>0</td>\n",
              "      <td>9</td>\n",
              "      <td>2783</td>\n",
              "      <td>4.85355</td>\n",
              "      <td>6</td>\n",
              "    </tr>\n",
              "    <tr>\n",
              "      <th>67</th>\n",
              "      <td>2</td>\n",
              "      <td>1</td>\n",
              "      <td>4338</td>\n",
              "      <td>14.61620</td>\n",
              "      <td>8</td>\n",
              "    </tr>\n",
              "  </tbody>\n",
              "</table>\n",
              "</div>\n",
              "      <button class=\"colab-df-convert\" onclick=\"convertToInteractive('df-ce45478d-e330-4452-aa6f-16cea27698cb')\"\n",
              "              title=\"Convert this dataframe to an interactive table.\"\n",
              "              style=\"display:none;\">\n",
              "        \n",
              "  <svg xmlns=\"http://www.w3.org/2000/svg\" height=\"24px\"viewBox=\"0 0 24 24\"\n",
              "       width=\"24px\">\n",
              "    <path d=\"M0 0h24v24H0V0z\" fill=\"none\"/>\n",
              "    <path d=\"M18.56 5.44l.94 2.06.94-2.06 2.06-.94-2.06-.94-.94-2.06-.94 2.06-2.06.94zm-11 1L8.5 8.5l.94-2.06 2.06-.94-2.06-.94L8.5 2.5l-.94 2.06-2.06.94zm10 10l.94 2.06.94-2.06 2.06-.94-2.06-.94-.94-2.06-.94 2.06-2.06.94z\"/><path d=\"M17.41 7.96l-1.37-1.37c-.4-.4-.92-.59-1.43-.59-.52 0-1.04.2-1.43.59L10.3 9.45l-7.72 7.72c-.78.78-.78 2.05 0 2.83L4 21.41c.39.39.9.59 1.41.59.51 0 1.02-.2 1.41-.59l7.78-7.78 2.81-2.81c.8-.78.8-2.07 0-2.86zM5.41 20L4 18.59l7.72-7.72 1.47 1.35L5.41 20z\"/>\n",
              "  </svg>\n",
              "      </button>\n",
              "      \n",
              "  <style>\n",
              "    .colab-df-container {\n",
              "      display:flex;\n",
              "      flex-wrap:wrap;\n",
              "      gap: 12px;\n",
              "    }\n",
              "\n",
              "    .colab-df-convert {\n",
              "      background-color: #E8F0FE;\n",
              "      border: none;\n",
              "      border-radius: 50%;\n",
              "      cursor: pointer;\n",
              "      display: none;\n",
              "      fill: #1967D2;\n",
              "      height: 32px;\n",
              "      padding: 0 0 0 0;\n",
              "      width: 32px;\n",
              "    }\n",
              "\n",
              "    .colab-df-convert:hover {\n",
              "      background-color: #E2EBFA;\n",
              "      box-shadow: 0px 1px 2px rgba(60, 64, 67, 0.3), 0px 1px 3px 1px rgba(60, 64, 67, 0.15);\n",
              "      fill: #174EA6;\n",
              "    }\n",
              "\n",
              "    [theme=dark] .colab-df-convert {\n",
              "      background-color: #3B4455;\n",
              "      fill: #D2E3FC;\n",
              "    }\n",
              "\n",
              "    [theme=dark] .colab-df-convert:hover {\n",
              "      background-color: #434B5C;\n",
              "      box-shadow: 0px 1px 3px 1px rgba(0, 0, 0, 0.15);\n",
              "      filter: drop-shadow(0px 1px 2px rgba(0, 0, 0, 0.3));\n",
              "      fill: #FFFFFF;\n",
              "    }\n",
              "  </style>\n",
              "\n",
              "      <script>\n",
              "        const buttonEl =\n",
              "          document.querySelector('#df-ce45478d-e330-4452-aa6f-16cea27698cb button.colab-df-convert');\n",
              "        buttonEl.style.display =\n",
              "          google.colab.kernel.accessAllowed ? 'block' : 'none';\n",
              "\n",
              "        async function convertToInteractive(key) {\n",
              "          const element = document.querySelector('#df-ce45478d-e330-4452-aa6f-16cea27698cb');\n",
              "          const dataTable =\n",
              "            await google.colab.kernel.invokeFunction('convertToInteractive',\n",
              "                                                     [key], {});\n",
              "          if (!dataTable) return;\n",
              "\n",
              "          const docLinkHtml = 'Like what you see? Visit the ' +\n",
              "            '<a target=\"_blank\" href=https://colab.research.google.com/notebooks/data_table.ipynb>data table notebook</a>'\n",
              "            + ' to learn more about interactive tables.';\n",
              "          element.innerHTML = '';\n",
              "          dataTable['output_type'] = 'display_data';\n",
              "          await google.colab.output.renderOutput(dataTable, element);\n",
              "          const docLink = document.createElement('div');\n",
              "          docLink.innerHTML = docLinkHtml;\n",
              "          element.appendChild(docLink);\n",
              "        }\n",
              "      </script>\n",
              "    </div>\n",
              "  </div>\n",
              "  "
            ]
          },
          "metadata": {},
          "execution_count": 5
        }
      ]
    },
    {
      "cell_type": "code",
      "source": [
        "df = df.dropna()\n",
        "data = df.to_numpy()"
      ],
      "metadata": {
        "id": "KtfJ3yJUdPQO"
      },
      "execution_count": 6,
      "outputs": []
    },
    {
      "cell_type": "markdown",
      "source": [
        "##Splitting the data set into train and test sets"
      ],
      "metadata": {
        "id": "sh9uIbuz4e9i"
      }
    },
    {
      "cell_type": "code",
      "source": [
        "X = data[:,0:4]\n",
        "y = data[:,4:]\n",
        "X_train, X_test, y_train, y_test = train_test_split(\n",
        "    X, y, \n",
        "    test_size=0.2, random_state=42\n",
        ")"
      ],
      "metadata": {
        "id": "GOPcYiXzeHHo"
      },
      "execution_count": 7,
      "outputs": []
    },
    {
      "cell_type": "markdown",
      "source": [
        "##Normalizing the data"
      ],
      "metadata": {
        "id": "GWbMklfg0_DA"
      }
    },
    {
      "cell_type": "code",
      "source": [
        "#Scaling the data\n",
        "std_scaler = StandardScaler()\n",
        "X_train_scaled = std_scaler.fit_transform(X_train)\n",
        "X_test_scaled = std_scaler.transform(X_test)\n",
        "#Printing shape of train and test vectors\n",
        "print(\"X_train: Shape: \",X_train_scaled.shape)\n",
        "print(\"Y_train: Shape: \",y_train.shape)\n",
        "print(\"X_test:  Shape: \",X_test_scaled.shape)\n",
        "print(\"Y_test:  Shape: \",y_test.shape)"
      ],
      "metadata": {
        "colab": {
          "base_uri": "https://localhost:8080/"
        },
        "id": "tDiezhnzex_f",
        "outputId": "f08d79c4-a1bc-4c59-e3ed-1988f51d3393"
      },
      "execution_count": 8,
      "outputs": [
        {
          "output_type": "stream",
          "name": "stdout",
          "text": [
            "X_train: Shape:  (80, 4)\n",
            "Y_train: Shape:  (80, 1)\n",
            "X_test:  Shape:  (20, 4)\n",
            "Y_test:  Shape:  (20, 1)\n"
          ]
        }
      ]
    },
    {
      "cell_type": "markdown",
      "source": [
        "#Machine Learning Models"
      ],
      "metadata": {
        "id": "K88FVRnW4wpV"
      }
    },
    {
      "cell_type": "markdown",
      "source": [
        "##Logistic Regression"
      ],
      "metadata": {
        "id": "LPkcZPfE5ASz"
      }
    },
    {
      "cell_type": "markdown",
      "source": [
        "###Fitting the data"
      ],
      "metadata": {
        "id": "4c1m3szi7AN0"
      }
    },
    {
      "cell_type": "code",
      "source": [
        "logreg = LogisticRegression()\n",
        "logreg.fit(X_train_scaled, y_train.ravel())\n",
        "Y_pred_log = logreg.predict(X_test_scaled)\n",
        "acc_log = accuracy_score(y_test, Y_pred_log) * 100\n",
        "print(\"Test output: \\n\",y_test.ravel())\n",
        "print(\"Predicted output: \\n\",Y_pred_log)\n"
      ],
      "metadata": {
        "colab": {
          "base_uri": "https://localhost:8080/"
        },
        "id": "KVtF9iGofZQ0",
        "outputId": "4e77af57-ed03-48e2-fbb1-57f1f64afe8f"
      },
      "execution_count": 9,
      "outputs": [
        {
          "output_type": "stream",
          "name": "stdout",
          "text": [
            "Test output: \n",
            " [8. 8. 1. 8. 8. 0. 4. 8. 0. 4. 0. 8. 1. 8. 6. 3. 1. 1. 0. 8.]\n",
            "Predicted output: \n",
            " [8. 8. 1. 8. 8. 1. 8. 8. 1. 8. 1. 8. 1. 8. 5. 4. 1. 1. 1. 8.]\n"
          ]
        }
      ]
    },
    {
      "cell_type": "code",
      "source": [
        "#Calculating the train accuracy\n",
        "logreg = LogisticRegression()\n",
        "logreg.fit(X_train_scaled, y_train.ravel())\n",
        "Y_pred_logT = logreg.predict(X_train_scaled)\n",
        "acc_logT = accuracy_score(y_train, Y_pred_logT) * 100"
      ],
      "metadata": {
        "id": "hVYkf_eSA6sL"
      },
      "execution_count": 10,
      "outputs": []
    },
    {
      "cell_type": "markdown",
      "source": [
        "###Evaluation Results"
      ],
      "metadata": {
        "id": "hDpDN84v7rM-"
      }
    },
    {
      "cell_type": "code",
      "source": [
        "cnf_mt = metrics.confusion_matrix(y_test, Y_pred_log)\n",
        "plt.figure(figsize=(9,9))\n",
        "sns.heatmap(cnf_mt, annot=True, fmt=\".1f\", linewidths=.5, square = True, cmap = 'Blues_r');\n",
        "plt.ylabel('Actual label');\n",
        "plt.xlabel('Predicted label');\n",
        "all_sample_title = 'Accuracy Score: {0}'.format(acc_log)\n",
        "plt.title(all_sample_title, size = 15);\n",
        "precision_log = metrics.precision_score(y_test, Y_pred_log, average='macro')*100\n",
        "recall_log = metrics.recall_score(y_test, Y_pred_log, average='macro')*100\n",
        "plt.savefig('cm1_log.png')"
      ],
      "metadata": {
        "colab": {
          "base_uri": "https://localhost:8080/",
          "height": 618
        },
        "id": "6D13WCYtClcx",
        "outputId": "f64106bc-d439-4292-9fe2-bc5187e591e0"
      },
      "execution_count": 11,
      "outputs": [
        {
          "output_type": "stream",
          "name": "stderr",
          "text": [
            "/usr/local/lib/python3.7/dist-packages/sklearn/metrics/_classification.py:1318: UndefinedMetricWarning: Precision is ill-defined and being set to 0.0 in labels with no predicted samples. Use `zero_division` parameter to control this behavior.\n",
            "  _warn_prf(average, modifier, msg_start, len(result))\n",
            "/usr/local/lib/python3.7/dist-packages/sklearn/metrics/_classification.py:1318: UndefinedMetricWarning: Recall is ill-defined and being set to 0.0 in labels with no true samples. Use `zero_division` parameter to control this behavior.\n",
            "  _warn_prf(average, modifier, msg_start, len(result))\n"
          ]
        },
        {
          "output_type": "display_data",
          "data": {
            "text/plain": [
              "<Figure size 648x648 with 2 Axes>"
            ],
            "image/png": "[encoded data removed]"
          },
          "metadata": {
            "needs_background": "light"
          }
        }
      ]
    },
    {
      "cell_type": "code",
      "source": [
        "metric = [acc_log, precision_log, recall_log]\n",
        "lables=['Accuracy: '+str(round(acc_log,2))+'%', 'Precision: '+str(round(precision_log,2))+'%', 'Recall: '+str(round(recall_log,2))+'%']\n",
        "xpos = np.arange(len(lables))\n",
        "plt.bar(xpos, metric,width = .3, color=['crimson', 'yellowgreen', 'royalblue'])\n",
        "plt.xticks(xpos, lables)\n",
        "x1,x2,y1,y2 = plt.axis()  \n",
        "plt.axis((x1,x2,y1,100))\n",
        "plt.grid()\n",
        "plt.xlabel('Evaluation Metrics')\n",
        "plt.ylabel('Metric Value')\n",
        "plt.title(\"Performance of Model\")\n",
        "plt.savefig('g1_log.png')\n",
        "plt.show()"
      ],
      "metadata": {
        "colab": {
          "base_uri": "https://localhost:8080/",
          "height": 295
        },
        "id": "gausc9olbuPg",
        "outputId": "606734d1-48ac-4c38-a50b-ee719bed8788"
      },
      "execution_count": 12,
      "outputs": [
        {
          "output_type": "display_data",
          "data": {
            "text/plain": [
              "<Figure size 432x288 with 1 Axes>"
            ],
            "image/png": "[encoded data removed]"
          },
          "metadata": {
            "needs_background": "light"
          }
        }
      ]
    },
    {
      "cell_type": "markdown",
      "source": [
        "##Random Forest"
      ],
      "metadata": {
        "id": "MMXW1wT_8fAs"
      }
    },
    {
      "cell_type": "markdown",
      "source": [
        "###Fitting the data"
      ],
      "metadata": {
        "id": "SgpYuP3y7Qis"
      }
    },
    {
      "cell_type": "code",
      "source": [
        "random_forest = RandomForestClassifier(n_estimators=50)\n",
        "random_forest.fit(X_train_scaled,y_train.ravel())\n",
        "Y_pred_rf= random_forest.predict(X_test_scaled)\n",
        "acc_rf = accuracy_score(y_test, Y_pred_rf) * 100\n",
        "print(\"Test output: \\n\",y_test.ravel())\n",
        "print(\"Predicted output: \\n\",Y_pred_rf)"
      ],
      "metadata": {
        "colab": {
          "base_uri": "https://localhost:8080/"
        },
        "id": "PNVi5XLjBQKe",
        "outputId": "6a27d64d-4d3a-439f-97f3-b46168e5ac8a"
      },
      "execution_count": 13,
      "outputs": [
        {
          "output_type": "stream",
          "name": "stdout",
          "text": [
            "Test output: \n",
            " [8. 8. 1. 8. 8. 0. 4. 8. 0. 4. 0. 8. 1. 8. 6. 3. 1. 1. 0. 8.]\n",
            "Predicted output: \n",
            " [4. 8. 1. 8. 8. 0. 4. 8. 2. 4. 0. 8. 1. 8. 6. 4. 1. 1. 2. 8.]\n"
          ]
        }
      ]
    },
    {
      "cell_type": "code",
      "source": [
        "#Calculating the train accuracy\n",
        "random_forest = RandomForestClassifier(n_estimators=50)\n",
        "random_forest.fit(X_train_scaled,y_train.ravel())\n",
        "Y_pred_rfT= random_forest.predict(X_train_scaled)\n",
        "acc_rfT = accuracy_score(y_train, Y_pred_rfT) * 100"
      ],
      "metadata": {
        "id": "IPS2xIlaBQ5Q"
      },
      "execution_count": 14,
      "outputs": []
    },
    {
      "cell_type": "markdown",
      "source": [
        "###Evaluation Results"
      ],
      "metadata": {
        "id": "_WklaHQk8G3A"
      }
    },
    {
      "cell_type": "code",
      "source": [
        "cnf_mt = metrics.confusion_matrix(y_test, Y_pred_rf)\n",
        "plt.figure(figsize=(9,9))\n",
        "sns.heatmap(cnf_mt, annot=True, fmt=\".1f\", linewidths=.5, square = True, cmap = 'Blues_r');\n",
        "plt.ylabel('Actual label');\n",
        "plt.xlabel('Predicted label');\n",
        "all_sample_title = 'Accuracy Score: {0}'.format(acc_rf)\n",
        "plt.title(all_sample_title, size = 15);\n",
        "precision_rf = metrics.precision_score(y_test, Y_pred_rf, average='macro')*100\n",
        "recall_rf = metrics.recall_score(y_test, Y_pred_rf, average='macro')*100\n",
        "plt.savefig('cm1_rf.png')"
      ],
      "metadata": {
        "colab": {
          "base_uri": "https://localhost:8080/",
          "height": 618
        },
        "id": "8-m9L2ByE8qe",
        "outputId": "33afa069-9e51-493f-fa21-cd1ae5361769"
      },
      "execution_count": 15,
      "outputs": [
        {
          "output_type": "stream",
          "name": "stderr",
          "text": [
            "/usr/local/lib/python3.7/dist-packages/sklearn/metrics/_classification.py:1318: UndefinedMetricWarning: Precision is ill-defined and being set to 0.0 in labels with no predicted samples. Use `zero_division` parameter to control this behavior.\n",
            "  _warn_prf(average, modifier, msg_start, len(result))\n",
            "/usr/local/lib/python3.7/dist-packages/sklearn/metrics/_classification.py:1318: UndefinedMetricWarning: Recall is ill-defined and being set to 0.0 in labels with no true samples. Use `zero_division` parameter to control this behavior.\n",
            "  _warn_prf(average, modifier, msg_start, len(result))\n"
          ]
        },
        {
          "output_type": "display_data",
          "data": {
            "text/plain": [
              "<Figure size 648x648 with 2 Axes>"
            ],
            "image/png": "[encoded data removed]"
          },
          "metadata": {
            "needs_background": "light"
          }
        }
      ]
    },
    {
      "cell_type": "code",
      "source": [
        "metric = [acc_rf, precision_rf, recall_rf]\n",
        "lables=['Accuracy: '+str(round(acc_rf,2))+'%', 'Precision: '+str(round(precision_rf,2))+'%', 'Recall: '+str(round(recall_rf,2))+'%']\n",
        "xpos = np.arange(len(lables))\n",
        "plt.bar(xpos, metric,width = .3, color=['crimson', 'yellowgreen', 'royalblue'])\n",
        "plt.xticks(xpos, lables)\n",
        "x1,x2,y1,y2 = plt.axis()  \n",
        "plt.axis((x1,x2,y1,100))\n",
        "plt.grid()\n",
        "plt.xlabel('Evaluation Metrics')\n",
        "plt.ylabel('Metric Value')\n",
        "plt.title(\"Performance of Model\")\n",
        "plt.savefig('g1_rf.png')\n",
        "plt.show()"
      ],
      "metadata": {
        "colab": {
          "base_uri": "https://localhost:8080/",
          "height": 295
        },
        "id": "PLNM_razdTUI",
        "outputId": "770218a5-5193-415a-e9e3-44793fb66f60"
      },
      "execution_count": 16,
      "outputs": [
        {
          "output_type": "display_data",
          "data": {
            "text/plain": [
              "<Figure size 432x288 with 1 Axes>"
            ],
            "image/png": "[encoded data removed]"
          },
          "metadata": {
            "needs_background": "light"
          }
        }
      ]
    },
    {
      "cell_type": "markdown",
      "source": [
        "##Decision Tree"
      ],
      "metadata": {
        "id": "SOMrX0LF8lWV"
      }
    },
    {
      "cell_type": "markdown",
      "source": [
        "###Fitting the data"
      ],
      "metadata": {
        "id": "SsGGC7C37Ryh"
      }
    },
    {
      "cell_type": "code",
      "source": [
        "decision_tree = DecisionTreeClassifier()\n",
        "decision_tree.fit(X_train_scaled, y_train)\n",
        "Y_pred_dt = decision_tree.predict(X_test_scaled)\n",
        "acc_dt = accuracy_score(y_test, Y_pred_dt) * 100\n",
        "print(\"Test output: \\n\",y_test.ravel())\n",
        "print(\"Predicted output: \\n\",Y_pred_dt)"
      ],
      "metadata": {
        "colab": {
          "base_uri": "https://localhost:8080/"
        },
        "id": "EMSnNyl5BVH0",
        "outputId": "480bb223-3fa1-4b89-ce2e-6a32072b4aaa"
      },
      "execution_count": 17,
      "outputs": [
        {
          "output_type": "stream",
          "name": "stdout",
          "text": [
            "Test output: \n",
            " [8. 8. 1. 8. 8. 0. 4. 8. 0. 4. 0. 8. 1. 8. 6. 3. 1. 1. 0. 8.]\n",
            "Predicted output: \n",
            " [4. 8. 1. 8. 8. 0. 4. 8. 2. 4. 0. 8. 1. 8. 6. 4. 1. 1. 2. 8.]\n"
          ]
        }
      ]
    },
    {
      "cell_type": "code",
      "source": [
        "#Calculating the train accuracy\n",
        "decision_tree = DecisionTreeClassifier()\n",
        "decision_tree.fit(X_train_scaled, y_train)\n",
        "Y_pred_dtT = decision_tree.predict(X_train_scaled)\n",
        "acc_dtT = accuracy_score(y_train, Y_pred_dtT) * 100"
      ],
      "metadata": {
        "id": "VcHg6GmaBVSu"
      },
      "execution_count": 18,
      "outputs": []
    },
    {
      "cell_type": "markdown",
      "source": [
        "###Evaluation Results"
      ],
      "metadata": {
        "id": "OypSQ_UW8Hqz"
      }
    },
    {
      "cell_type": "code",
      "source": [
        "cnf_mt = metrics.confusion_matrix(y_test, Y_pred_dt)\n",
        "plt.figure(figsize=(9,9))\n",
        "sns.heatmap(cnf_mt, annot=True, fmt=\".1f\", linewidths=.5, square = True, cmap = 'Blues_r');\n",
        "plt.ylabel('Actual label');\n",
        "plt.xlabel('Predicted label');\n",
        "all_sample_title = 'Accuracy Score: {0}'.format(acc_dt)\n",
        "plt.title(all_sample_title, size = 15);\n",
        "precision_dt = metrics.precision_score(y_test, Y_pred_dt, average='macro')*100\n",
        "recall_dt = metrics.recall_score(y_test, Y_pred_dt, average='macro')*100\n",
        "plt.savefig('cm1_dt.png')"
      ],
      "metadata": {
        "colab": {
          "base_uri": "https://localhost:8080/",
          "height": 618
        },
        "id": "-3rHk4TNDZ_y",
        "outputId": "e331ae6b-15fa-41a3-aff4-1b62c5ef5c5f"
      },
      "execution_count": 19,
      "outputs": [
        {
          "output_type": "stream",
          "name": "stderr",
          "text": [
            "/usr/local/lib/python3.7/dist-packages/sklearn/metrics/_classification.py:1318: UndefinedMetricWarning: Precision is ill-defined and being set to 0.0 in labels with no predicted samples. Use `zero_division` parameter to control this behavior.\n",
            "  _warn_prf(average, modifier, msg_start, len(result))\n",
            "/usr/local/lib/python3.7/dist-packages/sklearn/metrics/_classification.py:1318: UndefinedMetricWarning: Recall is ill-defined and being set to 0.0 in labels with no true samples. Use `zero_division` parameter to control this behavior.\n",
            "  _warn_prf(average, modifier, msg_start, len(result))\n"
          ]
        },
        {
          "output_type": "display_data",
          "data": {
            "text/plain": [
              "<Figure size 648x648 with 2 Axes>"
            ],
            "image/png": "[encoded data removed]"
          },
          "metadata": {
            "needs_background": "light"
          }
        }
      ]
    },
    {
      "cell_type": "code",
      "source": [
        "metric = [acc_dt, precision_dt, recall_dt]\n",
        "lables=['Accuracy: '+str(round(acc_dt,2))+'%', 'Precision: '+str(round(precision_dt,2))+'%', 'Recall: '+str(round(recall_dt,2))+'%']\n",
        "xpos = np.arange(len(lables))\n",
        "plt.bar(xpos, metric,width = .3, color=['crimson', 'yellowgreen', 'royalblue'])\n",
        "plt.xticks(xpos, lables)\n",
        "x1,x2,y1,y2 = plt.axis()  \n",
        "plt.axis((x1,x2,y1,100))\n",
        "plt.grid()\n",
        "plt.xlabel('Evaluation Metrics')\n",
        "plt.ylabel('Metric Value')\n",
        "plt.title(\"Performance of Model\")\n",
        "plt.savefig('g1_dt.png')\n",
        "plt.show()"
      ],
      "metadata": {
        "colab": {
          "base_uri": "https://localhost:8080/",
          "height": 295
        },
        "id": "IvClYeAJdbAe",
        "outputId": "f64788c6-d3e4-4ad8-f1df-2dd3439d4f91"
      },
      "execution_count": 20,
      "outputs": [
        {
          "output_type": "display_data",
          "data": {
            "text/plain": [
              "<Figure size 432x288 with 1 Axes>"
            ],
            "image/png": "[encoded data removed]"
          },
          "metadata": {
            "needs_background": "light"
          }
        }
      ]
    },
    {
      "cell_type": "markdown",
      "source": [
        "##K-Nearest Neighbors"
      ],
      "metadata": {
        "id": "UHbtoUwl8php"
      }
    },
    {
      "cell_type": "markdown",
      "source": [
        "###Fitting the data"
      ],
      "metadata": {
        "id": "Efujp-be7SeW"
      }
    },
    {
      "cell_type": "code",
      "source": [
        "knn = KNeighborsClassifier(n_neighbors = 10)\n",
        "knn.fit(X_train_scaled, y_train.ravel())\n",
        "Y_pred_knn = knn.predict(X_test_scaled)\n",
        "acc_knn = accuracy_score(y_test, Y_pred_knn) * 100\n",
        "print(\"Test output: \\n\",y_test.ravel())\n",
        "print(\"Predicted output: \\n\",Y_pred_knn)"
      ],
      "metadata": {
        "colab": {
          "base_uri": "https://localhost:8080/"
        },
        "id": "XSdeR5MMCBhJ",
        "outputId": "8de9dd0d-c925-4886-e327-735ab248949c"
      },
      "execution_count": 21,
      "outputs": [
        {
          "output_type": "stream",
          "name": "stdout",
          "text": [
            "Test output: \n",
            " [8. 8. 1. 8. 8. 0. 4. 8. 0. 4. 0. 8. 1. 8. 6. 3. 1. 1. 0. 8.]\n",
            "Predicted output: \n",
            " [4. 8. 1. 8. 8. 1. 4. 8. 0. 4. 1. 8. 1. 8. 5. 4. 1. 1. 0. 8.]\n"
          ]
        }
      ]
    },
    {
      "cell_type": "code",
      "source": [
        "#Calculating the train accuracy\n",
        "knn = KNeighborsClassifier(n_neighbors = 10)\n",
        "knn.fit(X_train_scaled, y_train.ravel())\n",
        "Y_pred_knnT = knn.predict(X_train_scaled)\n",
        "acc_knnT = accuracy_score(y_train, Y_pred_knnT) * 100"
      ],
      "metadata": {
        "id": "PoVGKeEnCBmc"
      },
      "execution_count": 22,
      "outputs": []
    },
    {
      "cell_type": "markdown",
      "source": [
        "###Evaluation Results"
      ],
      "metadata": {
        "id": "ZynUzHm28IiO"
      }
    },
    {
      "cell_type": "code",
      "source": [
        "cnf_mt = metrics.confusion_matrix(y_test, Y_pred_knn)\n",
        "plt.figure(figsize=(9,9))\n",
        "sns.heatmap(cnf_mt, annot=True, fmt=\".1f\", linewidths=.5, square = True, cmap = 'Blues_r');\n",
        "plt.ylabel('Actual label');\n",
        "plt.xlabel('Predicted label');\n",
        "all_sample_title = 'Accuracy Score: {0}'.format(acc_knn)\n",
        "plt.title(all_sample_title, size = 15);\n",
        "precision_knn = metrics.precision_score(y_test, Y_pred_knn, average='macro')*100\n",
        "recall_knn = metrics.recall_score(y_test, Y_pred_knn, average='macro')*100\n",
        "plt.savefig('cm1_knn.png')"
      ],
      "metadata": {
        "colab": {
          "base_uri": "https://localhost:8080/",
          "height": 618
        },
        "id": "bQ4E5B0VFEnS",
        "outputId": "6e89cec4-b10a-4d68-c559-de90f8f7531c"
      },
      "execution_count": 23,
      "outputs": [
        {
          "output_type": "stream",
          "name": "stderr",
          "text": [
            "/usr/local/lib/python3.7/dist-packages/sklearn/metrics/_classification.py:1318: UndefinedMetricWarning: Precision is ill-defined and being set to 0.0 in labels with no predicted samples. Use `zero_division` parameter to control this behavior.\n",
            "  _warn_prf(average, modifier, msg_start, len(result))\n",
            "/usr/local/lib/python3.7/dist-packages/sklearn/metrics/_classification.py:1318: UndefinedMetricWarning: Recall is ill-defined and being set to 0.0 in labels with no true samples. Use `zero_division` parameter to control this behavior.\n",
            "  _warn_prf(average, modifier, msg_start, len(result))\n"
          ]
        },
        {
          "output_type": "display_data",
          "data": {
            "text/plain": [
              "<Figure size 648x648 with 2 Axes>"
            ],
            "image/png": "[encoded data removed]"
          },
          "metadata": {
            "needs_background": "light"
          }
        }
      ]
    },
    {
      "cell_type": "code",
      "source": [
        "metric = [acc_knn, precision_knn, recall_knn]\n",
        "lables=['Accuracy: '+str(round(acc_knn,2))+'%', 'Precision: '+str(round(precision_knn,2))+'%', 'Recall: '+str(round(recall_knn,2))+'%']\n",
        "xpos = np.arange(len(lables))\n",
        "plt.bar(xpos, metric,width = .3, color=['crimson', 'yellowgreen', 'royalblue'])\n",
        "plt.xticks(xpos, lables)\n",
        "x1,x2,y1,y2 = plt.axis()  \n",
        "plt.axis((x1,x2,y1,100))\n",
        "plt.grid()\n",
        "plt.xlabel('Evaluation Metrics')\n",
        "plt.ylabel('Metric Value')\n",
        "plt.title(\"Performance of Model\")\n",
        "plt.savefig('g1_knn.png')\n",
        "plt.show()"
      ],
      "metadata": {
        "colab": {
          "base_uri": "https://localhost:8080/",
          "height": 295
        },
        "id": "f1oFxhq6foVe",
        "outputId": "ecf1944d-6f17-4460-d27f-15d96d5f4313"
      },
      "execution_count": 24,
      "outputs": [
        {
          "output_type": "display_data",
          "data": {
            "text/plain": [
              "<Figure size 432x288 with 1 Axes>"
            ],
            "image/png": "[encoded data removed]"
          },
          "metadata": {
            "needs_background": "light"
          }
        }
      ]
    },
    {
      "cell_type": "markdown",
      "source": [
        "##MLP"
      ],
      "metadata": {
        "id": "rmCHHGcj8v1t"
      }
    },
    {
      "cell_type": "markdown",
      "source": [
        "###Fitting the data"
      ],
      "metadata": {
        "id": "4v28J3Lg7TWI"
      }
    },
    {
      "cell_type": "code",
      "source": [
        "clf_mlp = MLPClassifier(random_state=1, max_iter=300).fit(X_train_scaled, y_train.ravel())\n",
        "Y_pred_mlp= clf_mlp.predict(X_test_scaled)\n",
        "acc_mlp = accuracy_score(y_test, Y_pred_mlp) * 100\n",
        "print(\"Test output: \\n\",y_test.ravel())\n",
        "print(\"Predicted output: \\n\",Y_pred_mlp)"
      ],
      "metadata": {
        "colab": {
          "base_uri": "https://localhost:8080/"
        },
        "id": "fYDEOCGMzjGU",
        "outputId": "09c99aff-e589-450a-9755-9dd4335bcdcf"
      },
      "execution_count": 25,
      "outputs": [
        {
          "output_type": "stream",
          "name": "stdout",
          "text": [
            "Test output: \n",
            " [8. 8. 1. 8. 8. 0. 4. 8. 0. 4. 0. 8. 1. 8. 6. 3. 1. 1. 0. 8.]\n",
            "Predicted output: \n",
            " [4. 8. 1. 4. 8. 1. 4. 8. 1. 4. 1. 8. 1. 8. 5. 8. 1. 1. 1. 8.]\n"
          ]
        },
        {
          "output_type": "stream",
          "name": "stderr",
          "text": [
            "/usr/local/lib/python3.7/dist-packages/sklearn/neural_network/_multilayer_perceptron.py:696: ConvergenceWarning: Stochastic Optimizer: Maximum iterations (300) reached and the optimization hasn't converged yet.\n",
            "  ConvergenceWarning,\n"
          ]
        }
      ]
    },
    {
      "cell_type": "code",
      "source": [
        "#Calculating the train accuracy\n",
        "clf_mlp = MLPClassifier(random_state=1, max_iter=300).fit(X_train_scaled, y_train.ravel())\n",
        "Y_pred_mlpT= clf_mlp.predict(X_train_scaled)\n",
        "acc_mlpT = accuracy_score(y_train, Y_pred_mlpT) * 100"
      ],
      "metadata": {
        "colab": {
          "base_uri": "https://localhost:8080/"
        },
        "id": "_COkWVfE0vog",
        "outputId": "bc37929a-2ebc-4e6f-85bd-94cf0000f62b"
      },
      "execution_count": 26,
      "outputs": [
        {
          "output_type": "stream",
          "name": "stderr",
          "text": [
            "/usr/local/lib/python3.7/dist-packages/sklearn/neural_network/_multilayer_perceptron.py:696: ConvergenceWarning: Stochastic Optimizer: Maximum iterations (300) reached and the optimization hasn't converged yet.\n",
            "  ConvergenceWarning,\n"
          ]
        }
      ]
    },
    {
      "cell_type": "markdown",
      "source": [
        "###Evaluation Results"
      ],
      "metadata": {
        "id": "rvqNlUJH8KBU"
      }
    },
    {
      "cell_type": "code",
      "source": [
        "cnf_mt = metrics.confusion_matrix(y_test, Y_pred_mlp)\n",
        "plt.figure(figsize=(9,9))\n",
        "sns.heatmap(cnf_mt, annot=True, fmt=\".1f\", linewidths=.5, square = True, cmap = 'Blues_r');\n",
        "plt.ylabel('Actual label');\n",
        "plt.xlabel('Predicted label');\n",
        "all_sample_title = 'Accuracy Score: {0}'.format(acc_mlp)\n",
        "plt.title(all_sample_title, size = 15);\n",
        "precision_mlp = metrics.precision_score(y_test, Y_pred_mlp, average='macro')*100\n",
        "recall_mlp = metrics.recall_score(y_test, Y_pred_mlp, average='macro')*100\n",
        "plt.savefig('cm1_mlp.png')"
      ],
      "metadata": {
        "colab": {
          "base_uri": "https://localhost:8080/",
          "height": 618
        },
        "id": "bcchMczhFLWa",
        "outputId": "3ff94116-d637-4d71-a7d5-ecf923275d12"
      },
      "execution_count": 27,
      "outputs": [
        {
          "output_type": "stream",
          "name": "stderr",
          "text": [
            "/usr/local/lib/python3.7/dist-packages/sklearn/metrics/_classification.py:1318: UndefinedMetricWarning: Precision is ill-defined and being set to 0.0 in labels with no predicted samples. Use `zero_division` parameter to control this behavior.\n",
            "  _warn_prf(average, modifier, msg_start, len(result))\n",
            "/usr/local/lib/python3.7/dist-packages/sklearn/metrics/_classification.py:1318: UndefinedMetricWarning: Recall is ill-defined and being set to 0.0 in labels with no true samples. Use `zero_division` parameter to control this behavior.\n",
            "  _warn_prf(average, modifier, msg_start, len(result))\n"
          ]
        },
        {
          "output_type": "display_data",
          "data": {
            "text/plain": [
              "<Figure size 648x648 with 2 Axes>"
            ],
            "image/png": "[encoded data removed]"
          },
          "metadata": {
            "needs_background": "light"
          }
        }
      ]
    },
    {
      "cell_type": "code",
      "source": [
        "metric = [acc_mlp, precision_mlp, recall_mlp]\n",
        "lables=['Accuracy: '+str(round(acc_mlp,2))+'%', 'Precision: '+str(round(precision_mlp,2))+'%', 'Recall: '+str(round(recall_mlp,2))+'%']\n",
        "xpos = np.arange(len(lables))\n",
        "plt.bar(xpos, metric,width = .3, color=['crimson', 'yellowgreen', 'royalblue'])\n",
        "plt.xticks(xpos, lables)\n",
        "x1,x2,y1,y2 = plt.axis()  \n",
        "plt.axis((x1,x2,y1,100))\n",
        "plt.grid()\n",
        "plt.xlabel('Evaluation Metrics')\n",
        "plt.ylabel('Metric Value')\n",
        "plt.title(\"Performance of Model\")\n",
        "plt.savefig('g1_mlp.png')\n",
        "plt.show()"
      ],
      "metadata": {
        "colab": {
          "base_uri": "https://localhost:8080/",
          "height": 295
        },
        "id": "aYHYR9TbfySG",
        "outputId": "29913c59-098c-4cfc-b710-be0152e86dde"
      },
      "execution_count": 28,
      "outputs": [
        {
          "output_type": "display_data",
          "data": {
            "text/plain": [
              "<Figure size 432x288 with 1 Axes>"
            ],
            "image/png": "[encoded data removed]"
          },
          "metadata": {
            "needs_background": "light"
          }
        }
      ]
    },
    {
      "cell_type": "markdown",
      "source": [
        "##AdaBoost"
      ],
      "metadata": {
        "id": "-VG19_OJ80cG"
      }
    },
    {
      "cell_type": "markdown",
      "source": [
        "###Fitting the data"
      ],
      "metadata": {
        "id": "zaJwA4797UGD"
      }
    },
    {
      "cell_type": "code",
      "source": [
        "clf_adab = AdaBoostClassifier(n_estimators=100, random_state=0)\n",
        "clf_adab.fit(X_train_scaled, y_train.ravel())\n",
        "Y_pred_adab= clf_adab.predict(X_test_scaled)\n",
        "acc_adab = accuracy_score(y_test, Y_pred_adab) * 100\n",
        "print(\"Test output: \\n\",y_test.ravel())\n",
        "print(\"Predicted output: \\n\",Y_pred_adab)"
      ],
      "metadata": {
        "colab": {
          "base_uri": "https://localhost:8080/"
        },
        "id": "81ik0FZA1__9",
        "outputId": "49753243-6893-4eb2-8923-4deea4d0a208"
      },
      "execution_count": 29,
      "outputs": [
        {
          "output_type": "stream",
          "name": "stdout",
          "text": [
            "Test output: \n",
            " [8. 8. 1. 8. 8. 0. 4. 8. 0. 4. 0. 8. 1. 8. 6. 3. 1. 1. 0. 8.]\n",
            "Predicted output: \n",
            " [8. 8. 1. 8. 8. 1. 8. 8. 1. 8. 1. 8. 1. 8. 5. 8. 1. 1. 1. 8.]\n"
          ]
        }
      ]
    },
    {
      "cell_type": "code",
      "source": [
        "#Calculating the train accuracy\n",
        "clf_adab = AdaBoostClassifier(n_estimators=100, random_state=0)\n",
        "clf_adab.fit(X_train_scaled, y_train.ravel())\n",
        "Y_pred_adabT= clf_adab.predict(X_train_scaled)\n",
        "acc_adabT = accuracy_score(y_train, Y_pred_adabT) * 100"
      ],
      "metadata": {
        "id": "QC5JIZVO2a_8"
      },
      "execution_count": 30,
      "outputs": []
    },
    {
      "cell_type": "markdown",
      "source": [
        "###Evaluation Results"
      ],
      "metadata": {
        "id": "fQdTgURq8K-_"
      }
    },
    {
      "cell_type": "code",
      "source": [
        "cnf_mt = metrics.confusion_matrix(y_test, Y_pred_adab)\n",
        "plt.figure(figsize=(9,9))\n",
        "sns.heatmap(cnf_mt, annot=True, fmt=\".1f\", linewidths=.5, square = True, cmap = 'Blues_r');\n",
        "plt.ylabel('Actual label');\n",
        "plt.xlabel('Predicted label');\n",
        "all_sample_title = 'Accuracy Score: {0}'.format(acc_adab)\n",
        "plt.title(all_sample_title, size = 15);\n",
        "precision_adab = metrics.precision_score(y_test, Y_pred_adab, average='macro')*100\n",
        "recall_adab = metrics.recall_score(y_test, Y_pred_adab, average='macro')*100\n",
        "plt.savefig('cm1_adab.png')"
      ],
      "metadata": {
        "colab": {
          "base_uri": "https://localhost:8080/",
          "height": 618
        },
        "id": "_KlHZDf5FRLm",
        "outputId": "af507d79-5cc5-4258-91f3-cf1b43792cc6"
      },
      "execution_count": 31,
      "outputs": [
        {
          "output_type": "stream",
          "name": "stderr",
          "text": [
            "/usr/local/lib/python3.7/dist-packages/sklearn/metrics/_classification.py:1318: UndefinedMetricWarning: Precision is ill-defined and being set to 0.0 in labels with no predicted samples. Use `zero_division` parameter to control this behavior.\n",
            "  _warn_prf(average, modifier, msg_start, len(result))\n",
            "/usr/local/lib/python3.7/dist-packages/sklearn/metrics/_classification.py:1318: UndefinedMetricWarning: Recall is ill-defined and being set to 0.0 in labels with no true samples. Use `zero_division` parameter to control this behavior.\n",
            "  _warn_prf(average, modifier, msg_start, len(result))\n"
          ]
        },
        {
          "output_type": "display_data",
          "data": {
            "text/plain": [
              "<Figure size 648x648 with 2 Axes>"
            ],
            "image/png": "[encoded data removed]"
          },
          "metadata": {
            "needs_background": "light"
          }
        }
      ]
    },
    {
      "cell_type": "code",
      "source": [
        "metric = [acc_adab, precision_adab, recall_adab]\n",
        "lables=['Accuracy: '+str(round(acc_adab,2))+'%', 'Precision: '+str(round(precision_adab,2))+'%', 'Recall: '+str(round(recall_adab,2))+'%']\n",
        "xpos = np.arange(len(lables))\n",
        "plt.bar(xpos, metric,width = .3, color=['crimson', 'yellowgreen', 'royalblue'])\n",
        "plt.xticks(xpos, lables)\n",
        "x1,x2,y1,y2 = plt.axis()  \n",
        "plt.axis((x1,x2,y1,100))\n",
        "plt.grid()\n",
        "plt.xlabel('Evaluation Metrics')\n",
        "plt.ylabel('Metric Value')\n",
        "plt.title(\"Performance of Model\")\n",
        "plt.savefig('g1_adab.png')\n",
        "plt.show()"
      ],
      "metadata": {
        "colab": {
          "base_uri": "https://localhost:8080/",
          "height": 295
        },
        "id": "uva5PtpAgAFo",
        "outputId": "a8208487-f8a9-4358-e883-2b012d2653ca"
      },
      "execution_count": 32,
      "outputs": [
        {
          "output_type": "display_data",
          "data": {
            "text/plain": [
              "<Figure size 432x288 with 1 Axes>"
            ],
            "image/png": "[encoded data removed]"
          },
          "metadata": {
            "needs_background": "light"
          }
        }
      ]
    },
    {
      "cell_type": "markdown",
      "source": [
        "##Gradient Boosting"
      ],
      "metadata": {
        "id": "0aNbVOFx85EH"
      }
    },
    {
      "cell_type": "markdown",
      "source": [
        "###Fitting the data"
      ],
      "metadata": {
        "id": "4eIHXlF17Uxw"
      }
    },
    {
      "cell_type": "code",
      "source": [
        "clf_gb = GradientBoostingClassifier(n_estimators=100, learning_rate=1.0, max_depth=1, random_state=0).fit(X_train_scaled, y_train.ravel())\n",
        "Y_pred_gb= clf_gb.predict(X_test_scaled)\n",
        "acc_gb = accuracy_score(y_test, Y_pred_gb) * 100\n",
        "print(\"Test output: \\n\",y_test.ravel())\n",
        "print(\"Predicted output: \\n\",Y_pred_gb)"
      ],
      "metadata": {
        "colab": {
          "base_uri": "https://localhost:8080/"
        },
        "id": "IDiMJ3lx5GxZ",
        "outputId": "57fa8e41-af42-47ec-a85a-8593ec56fdaa"
      },
      "execution_count": 33,
      "outputs": [
        {
          "output_type": "stream",
          "name": "stdout",
          "text": [
            "Test output: \n",
            " [8. 8. 1. 8. 8. 0. 4. 8. 0. 4. 0. 8. 1. 8. 6. 3. 1. 1. 0. 8.]\n",
            "Predicted output: \n",
            " [8. 4. 1. 8. 4. 2. 8. 8. 2. 8. 2. 4. 1. 4. 5. 8. 1. 1. 2. 4.]\n"
          ]
        }
      ]
    },
    {
      "cell_type": "code",
      "source": [
        "#Calculating the train accuracy\n",
        "clf_gb = GradientBoostingClassifier(n_estimators=100, learning_rate=1.0, max_depth=1, random_state=0).fit(X_train_scaled, y_train.ravel())\n",
        "Y_pred_gbT= clf_gb.predict(X_train_scaled)\n",
        "acc_gbT = accuracy_score(y_train, Y_pred_gbT) * 100"
      ],
      "metadata": {
        "id": "2RYFP5YG5ZK9"
      },
      "execution_count": 34,
      "outputs": []
    },
    {
      "cell_type": "markdown",
      "source": [
        "###Evaluation Results"
      ],
      "metadata": {
        "id": "f3M77lXy8MZA"
      }
    },
    {
      "cell_type": "code",
      "source": [
        "cnf_mt = metrics.confusion_matrix(y_test, Y_pred_gb)\n",
        "plt.figure(figsize=(9,9))\n",
        "sns.heatmap(cnf_mt, annot=True, fmt=\".1f\", linewidths=.5, square = True, cmap = 'Blues_r');\n",
        "plt.ylabel('Actual label');\n",
        "plt.xlabel('Predicted label');\n",
        "all_sample_title = 'Accuracy Score: {0}'.format(acc_gb)\n",
        "plt.title(all_sample_title, size = 15);\n",
        "precision_gb = metrics.precision_score(y_test, Y_pred_gb, average='macro')*100\n",
        "recall_gb = metrics.recall_score(y_test, Y_pred_gb, average='macro')*100\n",
        "plt.savefig('cm1_gb.png')"
      ],
      "metadata": {
        "colab": {
          "base_uri": "https://localhost:8080/",
          "height": 618
        },
        "id": "hrRRXr1zFemQ",
        "outputId": "3a1eae32-cac7-4110-a8fd-19a9b11c8e31"
      },
      "execution_count": 35,
      "outputs": [
        {
          "output_type": "stream",
          "name": "stderr",
          "text": [
            "/usr/local/lib/python3.7/dist-packages/sklearn/metrics/_classification.py:1318: UndefinedMetricWarning: Precision is ill-defined and being set to 0.0 in labels with no predicted samples. Use `zero_division` parameter to control this behavior.\n",
            "  _warn_prf(average, modifier, msg_start, len(result))\n",
            "/usr/local/lib/python3.7/dist-packages/sklearn/metrics/_classification.py:1318: UndefinedMetricWarning: Recall is ill-defined and being set to 0.0 in labels with no true samples. Use `zero_division` parameter to control this behavior.\n",
            "  _warn_prf(average, modifier, msg_start, len(result))\n"
          ]
        },
        {
          "output_type": "display_data",
          "data": {
            "text/plain": [
              "<Figure size 648x648 with 2 Axes>"
            ],
            "image/png": "[encoded data removed]"
          },
          "metadata": {
            "needs_background": "light"
          }
        }
      ]
    },
    {
      "cell_type": "code",
      "source": [
        "metric = [acc_gb, precision_gb, recall_gb]\n",
        "lables=['Accuracy: '+str(round(acc_gb,2))+'%', 'Precision: '+str(round(precision_gb,2))+'%', 'Recall: '+str(round(recall_gb,2))+'%']\n",
        "xpos = np.arange(len(lables))\n",
        "plt.bar(xpos, metric,width = .3, color=['crimson', 'yellowgreen', 'royalblue'])\n",
        "plt.xticks(xpos, lables)\n",
        "x1,x2,y1,y2 = plt.axis()  \n",
        "plt.axis((x1,x2,y1,100))\n",
        "plt.grid()\n",
        "plt.xlabel('Evaluation Metrics')\n",
        "plt.ylabel('Metric Value')\n",
        "plt.title(\"Performance of Model\")\n",
        "plt.savefig('g1_gb.png')\n",
        "plt.show()"
      ],
      "metadata": {
        "colab": {
          "base_uri": "https://localhost:8080/",
          "height": 295
        },
        "id": "VCmRxzsUkwII",
        "outputId": "bcb6813c-21fa-4a1b-cb27-32ddb1e856db"
      },
      "execution_count": 36,
      "outputs": [
        {
          "output_type": "display_data",
          "data": {
            "text/plain": [
              "<Figure size 432x288 with 1 Axes>"
            ],
            "image/png": "[encoded data removed]"
          },
          "metadata": {
            "needs_background": "light"
          }
        }
      ]
    },
    {
      "cell_type": "markdown",
      "source": [
        "##Support Vector Classifier"
      ],
      "metadata": {
        "id": "UYeOYiSQ89MD"
      }
    },
    {
      "cell_type": "markdown",
      "source": [
        "###Fitting the data"
      ],
      "metadata": {
        "id": "xtrnBmns7WTZ"
      }
    },
    {
      "cell_type": "code",
      "source": [
        "clf_svc = make_pipeline(StandardScaler(), SVC(gamma='auto'))\n",
        "clf_svc.fit(X_train_scaled, y_train.ravel())\n",
        "Y_pred_svc = clf_svc.predict(X_test_scaled)\n",
        "acc_svc = accuracy_score(y_test, Y_pred_svc) * 100\n",
        "print(\"Test output: \\n\",y_test.ravel())\n",
        "print(\"Predicted output: \\n\",Y_pred_svc)"
      ],
      "metadata": {
        "colab": {
          "base_uri": "https://localhost:8080/"
        },
        "id": "PApb2gPi6gN-",
        "outputId": "f34375f6-c93f-421d-e8fa-f220c2992ade"
      },
      "execution_count": 37,
      "outputs": [
        {
          "output_type": "stream",
          "name": "stdout",
          "text": [
            "Test output: \n",
            " [8. 8. 1. 8. 8. 0. 4. 8. 0. 4. 0. 8. 1. 8. 6. 3. 1. 1. 0. 8.]\n",
            "Predicted output: \n",
            " [8. 8. 1. 8. 8. 1. 8. 8. 1. 8. 1. 8. 1. 8. 5. 8. 1. 1. 1. 8.]\n"
          ]
        }
      ]
    },
    {
      "cell_type": "code",
      "source": [
        "#Calculating the train accuracy\n",
        "clf_svc = make_pipeline(StandardScaler(), SVC(gamma='auto'))\n",
        "clf_svc.fit(X_train_scaled, y_train.ravel())\n",
        "Y_pred_svcT= clf_svc.predict(X_train_scaled)\n",
        "acc_svcT = accuracy_score(y_train, Y_pred_svcT) * 100"
      ],
      "metadata": {
        "id": "PpYV3a4y8Tfj"
      },
      "execution_count": 38,
      "outputs": []
    },
    {
      "cell_type": "markdown",
      "source": [
        "###Evaluation Results"
      ],
      "metadata": {
        "id": "pIeAGyvj8NL8"
      }
    },
    {
      "cell_type": "code",
      "source": [
        "cnf_mt = metrics.confusion_matrix(y_test, Y_pred_svc)\n",
        "plt.figure(figsize=(9,9))\n",
        "sns.heatmap(cnf_mt, annot=True, fmt=\".1f\", linewidths=.5, square = True, cmap = 'Blues_r');\n",
        "plt.ylabel('Actual label');\n",
        "plt.xlabel('Predicted label');\n",
        "all_sample_title = 'Accuracy Score: {0}'.format(acc_svc)\n",
        "plt.title(all_sample_title, size = 15);\n",
        "precision_svc = metrics.precision_score(y_test, Y_pred_svc, average='macro')*100\n",
        "recall_svc = metrics.recall_score(y_test, Y_pred_svc, average='macro')*100\n",
        "plt.savefig('cm1_svc.png')"
      ],
      "metadata": {
        "colab": {
          "base_uri": "https://localhost:8080/",
          "height": 618
        },
        "id": "gAMGqhGQFkZh",
        "outputId": "6db8ddc2-7b3c-4ba1-b003-90bd7e2b3f51"
      },
      "execution_count": 39,
      "outputs": [
        {
          "output_type": "stream",
          "name": "stderr",
          "text": [
            "/usr/local/lib/python3.7/dist-packages/sklearn/metrics/_classification.py:1318: UndefinedMetricWarning: Precision is ill-defined and being set to 0.0 in labels with no predicted samples. Use `zero_division` parameter to control this behavior.\n",
            "  _warn_prf(average, modifier, msg_start, len(result))\n",
            "/usr/local/lib/python3.7/dist-packages/sklearn/metrics/_classification.py:1318: UndefinedMetricWarning: Recall is ill-defined and being set to 0.0 in labels with no true samples. Use `zero_division` parameter to control this behavior.\n",
            "  _warn_prf(average, modifier, msg_start, len(result))\n"
          ]
        },
        {
          "output_type": "display_data",
          "data": {
            "text/plain": [
              "<Figure size 648x648 with 2 Axes>"
            ],
            "image/png": "[encoded data removed]"
          },
          "metadata": {
            "needs_background": "light"
          }
        }
      ]
    },
    {
      "cell_type": "code",
      "source": [
        "metric = [acc_svc, precision_svc, recall_svc]\n",
        "lables=['Accuracy: '+str(round(acc_svc,2))+'%', 'Precision: '+str(round(precision_svc,2))+'%', 'Recall: '+str(round(recall_svc,2))+'%']\n",
        "xpos = np.arange(len(lables))\n",
        "plt.bar(xpos, metric,width = .3, color=['crimson', 'yellowgreen', 'royalblue'])\n",
        "plt.xticks(xpos, lables)\n",
        "x1,x2,y1,y2 = plt.axis()  \n",
        "plt.axis((x1,x2,y1,100))\n",
        "plt.grid()\n",
        "plt.xlabel('Evaluation Metrics')\n",
        "plt.ylabel('Metric Value')\n",
        "plt.title(\"Performance of Model\")\n",
        "plt.savefig('g1_svc.png')\n",
        "plt.show()"
      ],
      "metadata": {
        "colab": {
          "base_uri": "https://localhost:8080/",
          "height": 295
        },
        "id": "93L7iXjgk7iZ",
        "outputId": "2e151095-85d7-4d50-f195-6d785f4dcb5e"
      },
      "execution_count": 40,
      "outputs": [
        {
          "output_type": "display_data",
          "data": {
            "text/plain": [
              "<Figure size 432x288 with 1 Axes>"
            ],
            "image/png": "[encoded data removed]"
          },
          "metadata": {
            "needs_background": "light"
          }
        }
      ]
    },
    {
      "cell_type": "markdown",
      "source": [
        "##Gaussian Naive Bayes"
      ],
      "metadata": {
        "id": "glZzcIJZ9Doh"
      }
    },
    {
      "cell_type": "markdown",
      "source": [
        "###Fitting the data"
      ],
      "metadata": {
        "id": "bc2OY04H7XIt"
      }
    },
    {
      "cell_type": "code",
      "source": [
        "clf_gnb = GaussianNB()\n",
        "clf_gnb.fit(X_train_scaled, y_train.ravel())\n",
        "Y_pred_gnb = clf_gnb.predict(X_test_scaled)\n",
        "acc_gnb = accuracy_score(y_test, Y_pred_gnb) * 100\n",
        "print(\"Test output: \\n\",y_test.ravel())\n",
        "print(\"Predicted output: \\n\",Y_pred_gnb)"
      ],
      "metadata": {
        "colab": {
          "base_uri": "https://localhost:8080/"
        },
        "id": "OGRBrhkHlIh8",
        "outputId": "339c5f04-1612-42ca-dacb-e2f1ad1447a7"
      },
      "execution_count": 41,
      "outputs": [
        {
          "output_type": "stream",
          "name": "stdout",
          "text": [
            "Test output: \n",
            " [8. 8. 1. 8. 8. 0. 4. 8. 0. 4. 0. 8. 1. 8. 6. 3. 1. 1. 0. 8.]\n",
            "Predicted output: \n",
            " [8. 8. 1. 8. 8. 0. 4. 8. 0. 4. 0. 8. 1. 8. 6. 8. 1. 1. 0. 8.]\n"
          ]
        }
      ]
    },
    {
      "cell_type": "code",
      "source": [
        "#Calculating the train accuracy\n",
        "clf_gnb = GaussianNB()\n",
        "clf_gnb.fit(X_train_scaled, y_train.ravel())\n",
        "Y_pred_gnbT= clf_gnb.predict(X_train_scaled)\n",
        "acc_gnbT = accuracy_score(y_train, Y_pred_gnbT) * 100"
      ],
      "metadata": {
        "id": "8hFJpoxnlid0"
      },
      "execution_count": 42,
      "outputs": []
    },
    {
      "cell_type": "markdown",
      "source": [
        "###Evaluation Results"
      ],
      "metadata": {
        "id": "VnPEz_ay8OD9"
      }
    },
    {
      "cell_type": "code",
      "source": [
        "cnf_mt = metrics.confusion_matrix(y_test, Y_pred_gnb)\n",
        "plt.figure(figsize=(9,9))\n",
        "sns.heatmap(cnf_mt, annot=True, fmt=\".1f\", linewidths=.5, square = True, cmap = 'Blues_r');\n",
        "plt.ylabel('Actual label');\n",
        "plt.xlabel('Predicted label');\n",
        "all_sample_title = 'Accuracy Score: {0}'.format(acc_gnb)\n",
        "plt.title(all_sample_title, size = 15);\n",
        "precision_gnb = metrics.precision_score(y_test, Y_pred_gnb, average='macro')*100\n",
        "recall_gnb = metrics.recall_score(y_test, Y_pred_gnb, average='macro')*100\n",
        "plt.savefig('cm1_gnb.png')"
      ],
      "metadata": {
        "colab": {
          "base_uri": "https://localhost:8080/",
          "height": 584
        },
        "id": "ne54okYyFp7a",
        "outputId": "c671ffea-1dec-41ad-91b3-1af211dd974c"
      },
      "execution_count": 43,
      "outputs": [
        {
          "output_type": "stream",
          "name": "stderr",
          "text": [
            "/usr/local/lib/python3.7/dist-packages/sklearn/metrics/_classification.py:1318: UndefinedMetricWarning: Precision is ill-defined and being set to 0.0 in labels with no predicted samples. Use `zero_division` parameter to control this behavior.\n",
            "  _warn_prf(average, modifier, msg_start, len(result))\n"
          ]
        },
        {
          "output_type": "display_data",
          "data": {
            "text/plain": [
              "<Figure size 648x648 with 2 Axes>"
            ],
            "image/png": "[encoded data removed]"
          },
          "metadata": {
            "needs_background": "light"
          }
        }
      ]
    },
    {
      "cell_type": "code",
      "source": [
        "metric = [acc_gnb, precision_gnb, recall_gnb]\n",
        "lables=['Accuracy: '+str(round(acc_gnb,2))+'%', 'Precision: '+str(round(precision_gnb,2))+'%', 'Recall: '+str(round(recall_gnb,2))+'%']\n",
        "xpos = np.arange(len(lables))\n",
        "plt.bar(xpos, metric,width = .3, color=['crimson', 'yellowgreen', 'royalblue'])\n",
        "plt.xticks(xpos, lables)\n",
        "x1,x2,y1,y2 = plt.axis()  \n",
        "plt.axis((x1,x2,y1,100))\n",
        "plt.grid()\n",
        "plt.xlabel('Evaluation Metrics')\n",
        "plt.ylabel('Metric Value')\n",
        "plt.title(\"Performance of Model\")\n",
        "plt.savefig('g1_gnb.png')\n",
        "plt.show()"
      ],
      "metadata": {
        "colab": {
          "base_uri": "https://localhost:8080/",
          "height": 295
        },
        "id": "uUHnPPsUlHKq",
        "outputId": "3cfa8dee-33aa-4c47-887c-96aba06f42b5"
      },
      "execution_count": 44,
      "outputs": [
        {
          "output_type": "display_data",
          "data": {
            "text/plain": [
              "<Figure size 432x288 with 1 Axes>"
            ],
            "image/png": "[encoded data removed]"
          },
          "metadata": {
            "needs_background": "light"
          }
        }
      ]
    },
    {
      "cell_type": "markdown",
      "source": [
        "##Multinomial Naive Bayes"
      ],
      "metadata": {
        "id": "hl9iNLbf9fvR"
      }
    },
    {
      "cell_type": "markdown",
      "source": [
        "###Fitting the data"
      ],
      "metadata": {
        "id": "JUzlyQAm7X4X"
      }
    },
    {
      "cell_type": "code",
      "source": [
        "clf_mnb = MultinomialNB()\n",
        "clf_mnb.fit(X_train, y_train.ravel())\n",
        "Y_pred_mnb = clf_mnb.predict(X_test)\n",
        "acc_mnb = accuracy_score(y_test, Y_pred_mnb) * 100\n",
        "print(\"Test output: \\n\",y_test.ravel())\n",
        "print(\"Predicted output: \\n\",Y_pred_mnb)"
      ],
      "metadata": {
        "colab": {
          "base_uri": "https://localhost:8080/"
        },
        "id": "5_peDixhmO3H",
        "outputId": "293e1d36-4328-4a58-d6ea-30809b667c72"
      },
      "execution_count": 45,
      "outputs": [
        {
          "output_type": "stream",
          "name": "stdout",
          "text": [
            "Test output: \n",
            " [8. 8. 1. 8. 8. 0. 4. 8. 0. 4. 0. 8. 1. 8. 6. 3. 1. 1. 0. 8.]\n",
            "Predicted output: \n",
            " [4. 8. 1. 4. 8. 1. 4. 4. 1. 4. 1. 8. 1. 8. 5. 4. 1. 1. 1. 8.]\n"
          ]
        }
      ]
    },
    {
      "cell_type": "code",
      "source": [
        "#Calculating the train accuracy\n",
        "clf_mnb = MultinomialNB()\n",
        "clf_mnb.fit(X_train, y_train.ravel())\n",
        "Y_pred_mnbT= clf_mnb.predict(X_train)\n",
        "acc_mnbT = accuracy_score(y_train, Y_pred_mnbT) * 100"
      ],
      "metadata": {
        "id": "M3gfFL8rmQSW"
      },
      "execution_count": 46,
      "outputs": []
    },
    {
      "cell_type": "markdown",
      "source": [
        "###Evaluation Results"
      ],
      "metadata": {
        "id": "-I4TxNT38RJT"
      }
    },
    {
      "cell_type": "code",
      "source": [
        "cnf_mt = metrics.confusion_matrix(y_test, Y_pred_mnb)\n",
        "plt.figure(figsize=(9,9))\n",
        "sns.heatmap(cnf_mt, annot=True, fmt=\".1f\", linewidths=.5, square = True, cmap = 'Blues_r');\n",
        "plt.ylabel('Actual label');\n",
        "plt.xlabel('Predicted label');\n",
        "all_sample_title = 'Accuracy Score: {0}'.format(acc_mnb)\n",
        "plt.title(all_sample_title, size = 15);\n",
        "precision_mnb = metrics.precision_score(y_test, Y_pred_mnb, average='macro')*100\n",
        "recall_mnb = metrics.recall_score(y_test, Y_pred_mnb, average='macro')*100\n",
        "plt.savefig('cm1_mnb.png')"
      ],
      "metadata": {
        "colab": {
          "base_uri": "https://localhost:8080/",
          "height": 618
        },
        "id": "zE3C1Pa_FwMF",
        "outputId": "4803e1a8-bd84-4575-a7f1-c7aebe3a6a2a"
      },
      "execution_count": 47,
      "outputs": [
        {
          "output_type": "stream",
          "name": "stderr",
          "text": [
            "/usr/local/lib/python3.7/dist-packages/sklearn/metrics/_classification.py:1318: UndefinedMetricWarning: Precision is ill-defined and being set to 0.0 in labels with no predicted samples. Use `zero_division` parameter to control this behavior.\n",
            "  _warn_prf(average, modifier, msg_start, len(result))\n",
            "/usr/local/lib/python3.7/dist-packages/sklearn/metrics/_classification.py:1318: UndefinedMetricWarning: Recall is ill-defined and being set to 0.0 in labels with no true samples. Use `zero_division` parameter to control this behavior.\n",
            "  _warn_prf(average, modifier, msg_start, len(result))\n"
          ]
        },
        {
          "output_type": "display_data",
          "data": {
            "text/plain": [
              "<Figure size 648x648 with 2 Axes>"
            ],
            "image/png": "[encoded data removed]"
          },
          "metadata": {
            "needs_background": "light"
          }
        }
      ]
    },
    {
      "cell_type": "code",
      "source": [
        "metric = [acc_mnb, precision_mnb, recall_mnb]\n",
        "lables=['Accuracy: '+str(round(acc_mnb,2))+'%', 'Precision: '+str(round(precision_mnb,2))+'%', 'Recall: '+str(round(recall_mnb,2))+'%']\n",
        "xpos = np.arange(len(lables))\n",
        "plt.bar(xpos, metric,width = .3, color=['crimson', 'yellowgreen', 'royalblue'])\n",
        "plt.xticks(xpos, lables)\n",
        "x1,x2,y1,y2 = plt.axis()  \n",
        "plt.axis((x1,x2,y1,100))\n",
        "plt.grid()\n",
        "plt.xlabel('Evaluation Metrics')\n",
        "plt.ylabel('Metric Value')\n",
        "plt.title(\"Performance of Model\")\n",
        "plt.savefig('g1_mnb.png')\n",
        "plt.show()"
      ],
      "metadata": {
        "colab": {
          "base_uri": "https://localhost:8080/",
          "height": 295
        },
        "id": "UQsCOvpRlYDf",
        "outputId": "17ee7369-6dd5-488e-b764-3ad06414823b"
      },
      "execution_count": 48,
      "outputs": [
        {
          "output_type": "display_data",
          "data": {
            "text/plain": [
              "<Figure size 432x288 with 1 Axes>"
            ],
            "image/png": "[encoded data removed]"
          },
          "metadata": {
            "needs_background": "light"
          }
        }
      ]
    },
    {
      "cell_type": "markdown",
      "source": [
        "#Accuracy Results"
      ],
      "metadata": {
        "id": "q9or-Uuw9scv"
      }
    },
    {
      "cell_type": "code",
      "source": [
        "print(\"Results\")\n",
        "print(\" \")\n",
        "print(\"Logistic Regression: \")\n",
        "print(\"Test Accuracy: \", round(acc_log,2), \"Train Accuracy: \", acc_logT)\n",
        "print(\" \")\n",
        "print(\"Random Forrest: \")\n",
        "print(\"Test Accuracy: \", round(acc_rf ,2), \"Train Accuracy: \", acc_rfT)\n",
        "print(\" \")\n",
        "print(\"Decision Tree: \")\n",
        "print(\"Test Accuracy: \", round(acc_dt,2), \"Train Accuracy: \", acc_dtT)\n",
        "print(\" \")\n",
        "print(\"K-nearest neighbour: \")\n",
        "print(\"Test Accuracy: \", round(acc_knn,2), \"Train Accuracy: \", acc_knnT)\n",
        "print(\" \")\n",
        "print(\"MLP: \")\n",
        "print(\"Test Accuracy: \", round(acc_mlp,2), \"Train Accuracy: \", acc_mlpT)\n",
        "print(\" \")\n",
        "print(\"Adaboost: \")\n",
        "print(\"Test Accuracy: \", round(acc_adab,2), \"Train Accuracy: \", acc_adabT)\n",
        "print(\" \")\n",
        "print(\"Gradient Boosting: \")\n",
        "print(\"Test Accuracy: \", round(acc_gb,2), \"Train Accuracy: \", acc_gbT)\n",
        "print(\" \")\n",
        "print(\"SVC: \")\n",
        "print(\"Test Accuracy: \", round(acc_svc,2), \"Train Accuracy: \", acc_svcT)\n",
        "print(\" \")\n",
        "print(\"Gaussian Naive Bayes: \")\n",
        "print(\"Test Accuracy: \", round(acc_gnb,2), \"Train Accuracy: \", acc_gnbT)\n",
        "print(\" \")\n",
        "print(\"Multinomial Naive Bayes: \")\n",
        "print(\"Test Accuracy: \", round(acc_mnb,2), \"Train Accuracy: \", acc_mnbT)"
      ],
      "metadata": {
        "colab": {
          "base_uri": "https://localhost:8080/"
        },
        "id": "aw3bzP9_w-SS",
        "outputId": "9c69cb0b-657f-44ea-ac90-10c686408907"
      },
      "execution_count": 49,
      "outputs": [
        {
          "output_type": "stream",
          "name": "stdout",
          "text": [
            "Results\n",
            " \n",
            "Logistic Regression: \n",
            "Test Accuracy:  60.0 Train Accuracy:  73.75\n",
            " \n",
            "Random Forrest: \n",
            "Test Accuracy:  80.0 Train Accuracy:  100.0\n",
            " \n",
            "Decision Tree: \n",
            "Test Accuracy:  80.0 Train Accuracy:  100.0\n",
            " \n",
            "K-nearest neighbour: \n",
            "Test Accuracy:  75.0 Train Accuracy:  86.25\n",
            " \n",
            "MLP: \n",
            "Test Accuracy:  60.0 Train Accuracy:  77.5\n",
            " \n",
            "Adaboost: \n",
            "Test Accuracy:  60.0 Train Accuracy:  73.75\n",
            " \n",
            "Gradient Boosting: \n",
            "Test Accuracy:  35.0 Train Accuracy:  22.5\n",
            " \n",
            "SVC: \n",
            "Test Accuracy:  60.0 Train Accuracy:  73.75\n",
            " \n",
            "Gaussian Naive Bayes: \n",
            "Test Accuracy:  95.0 Train Accuracy:  97.5\n",
            " \n",
            "Multinomial Naive Bayes: \n",
            "Test Accuracy:  55.0 Train Accuracy:  73.75\n"
          ]
        }
      ]
    },
    {
      "cell_type": "markdown",
      "source": [
        "#References"
      ],
      "metadata": {
        "id": "Kes48NX9F07l"
      }
    },
    {
      "cell_type": "markdown",
      "source": [
        "[1] F. Pedregosa κ.ά., ‘Scikit-learn: Machine Learning in Python’, Journal of Machine Learning Research, τ. 12, σσ. 2825–2830, 2011."
      ],
      "metadata": {
        "id": "nnOvdVlIF3f-"
      }
    }
  ]
}