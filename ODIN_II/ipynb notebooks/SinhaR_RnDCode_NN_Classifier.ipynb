{
  "nbformat": 4,
  "nbformat_minor": 0,
  "metadata": {
    "colab": {
      "name": "SinhaR-RnDCode_NN_Classifier.ipynb",
      "provenance": [],
      "collapsed_sections": []
    },
    "kernelspec": {
      "name": "python3",
      "display_name": "Python 3"
    },
    "language_info": {
      "name": "python"
    }
  },
  "cells": [
    {
      "cell_type": "markdown",
      "source": [
        "#Importing Libraries*\n",
        "\n",
        "* tensorflow [1] libraries are used to develop neural network and sklearn [2] libraries are used for data pre-processing and to generate evaluation results."
      ],
      "metadata": {
        "id": "9-HO0OGOHE2i"
      }
    },
    {
      "cell_type": "code",
      "execution_count": 3,
      "metadata": {
        "id": "0FdHmoGk-xUp"
      },
      "outputs": [],
      "source": [
        "import pandas as pd\n",
        "import numpy as np\n",
        "import tensorflow as tf\n",
        "from tensorflow import keras\n",
        "from tensorflow.keras import layers\n",
        "from tensorflow.keras import datasets, layers, models\n",
        "from tensorflow.keras.utils import to_categorical\n",
        "from sklearn.model_selection import train_test_split\n",
        "from sklearn.preprocessing import StandardScaler\n",
        "from sklearn.metrics import accuracy_score\n",
        "from sklearn.metrics import classification_report\n",
        "from sklearn.metrics import precision_score\n",
        "from sklearn.metrics import recall_score\n",
        "from sklearn import preprocessing\n",
        "from sklearn import metrics\n",
        "import re\n",
        "import seaborn as sns\n",
        "import matplotlib.pyplot as plt"
      ]
    },
    {
      "cell_type": "markdown",
      "source": [
        "#Reading the Data set"
      ],
      "metadata": {
        "id": "e9a_dG_VzURS"
      }
    },
    {
      "cell_type": "code",
      "source": [
        "df = pd.read_csv('Combined_D3.csv') #change the file name to use different data sets\n",
        "df.sample(5)"
      ],
      "metadata": {
        "colab": {
          "base_uri": "https://localhost:8080/",
          "height": 204
        },
        "id": "EbrNHfXH_CHR",
        "outputId": "4f685d14-4ce8-45e1-88df-fa3a17230310"
      },
      "execution_count": 4,
      "outputs": [
        {
          "output_type": "execute_result",
          "data": {
            "text/plain": [
              "    num_memories  num_mult  num_pre_packed_blocks  critical_path_delay  \\\n",
              "48             0        11                  31628              17.8983   \n",
              "19             2         1                   4310              14.3183   \n",
              "21             0         5                    932              22.7853   \n",
              "53             0        11                  31628              18.3616   \n",
              "13             2         1                   4310              14.0662   \n",
              "\n",
              "    Ratio Percentage  \n",
              "48              1.00  \n",
              "19              1.00  \n",
              "21              0.75  \n",
              "53              1.00  \n",
              "13              1.00  "
            ],
            "text/html": [
              "\n",
              "  <div id=\"df-0fab4ace-76f9-4a24-aa34-14a7f67f62c5\">\n",
              "    <div class=\"colab-df-container\">\n",
              "      <div>\n",
              "<style scoped>\n",
              "    .dataframe tbody tr th:only-of-type {\n",
              "        vertical-align: middle;\n",
              "    }\n",
              "\n",
              "    .dataframe tbody tr th {\n",
              "        vertical-align: top;\n",
              "    }\n",
              "\n",
              "    .dataframe thead th {\n",
              "        text-align: right;\n",
              "    }\n",
              "</style>\n",
              "<table border=\"1\" class=\"dataframe\">\n",
              "  <thead>\n",
              "    <tr style=\"text-align: right;\">\n",
              "      <th></th>\n",
              "      <th>num_memories</th>\n",
              "      <th>num_mult</th>\n",
              "      <th>num_pre_packed_blocks</th>\n",
              "      <th>critical_path_delay</th>\n",
              "      <th>Ratio Percentage</th>\n",
              "    </tr>\n",
              "  </thead>\n",
              "  <tbody>\n",
              "    <tr>\n",
              "      <th>48</th>\n",
              "      <td>0</td>\n",
              "      <td>11</td>\n",
              "      <td>31628</td>\n",
              "      <td>17.8983</td>\n",
              "      <td>1.00</td>\n",
              "    </tr>\n",
              "    <tr>\n",
              "      <th>19</th>\n",
              "      <td>2</td>\n",
              "      <td>1</td>\n",
              "      <td>4310</td>\n",
              "      <td>14.3183</td>\n",
              "      <td>1.00</td>\n",
              "    </tr>\n",
              "    <tr>\n",
              "      <th>21</th>\n",
              "      <td>0</td>\n",
              "      <td>5</td>\n",
              "      <td>932</td>\n",
              "      <td>22.7853</td>\n",
              "      <td>0.75</td>\n",
              "    </tr>\n",
              "    <tr>\n",
              "      <th>53</th>\n",
              "      <td>0</td>\n",
              "      <td>11</td>\n",
              "      <td>31628</td>\n",
              "      <td>18.3616</td>\n",
              "      <td>1.00</td>\n",
              "    </tr>\n",
              "    <tr>\n",
              "      <th>13</th>\n",
              "      <td>2</td>\n",
              "      <td>1</td>\n",
              "      <td>4310</td>\n",
              "      <td>14.0662</td>\n",
              "      <td>1.00</td>\n",
              "    </tr>\n",
              "  </tbody>\n",
              "</table>\n",
              "</div>\n",
              "      <button class=\"colab-df-convert\" onclick=\"convertToInteractive('df-0fab4ace-76f9-4a24-aa34-14a7f67f62c5')\"\n",
              "              title=\"Convert this dataframe to an interactive table.\"\n",
              "              style=\"display:none;\">\n",
              "        \n",
              "  <svg xmlns=\"http://www.w3.org/2000/svg\" height=\"24px\"viewBox=\"0 0 24 24\"\n",
              "       width=\"24px\">\n",
              "    <path d=\"M0 0h24v24H0V0z\" fill=\"none\"/>\n",
              "    <path d=\"M18.56 5.44l.94 2.06.94-2.06 2.06-.94-2.06-.94-.94-2.06-.94 2.06-2.06.94zm-11 1L8.5 8.5l.94-2.06 2.06-.94-2.06-.94L8.5 2.5l-.94 2.06-2.06.94zm10 10l.94 2.06.94-2.06 2.06-.94-2.06-.94-.94-2.06-.94 2.06-2.06.94z\"/><path d=\"M17.41 7.96l-1.37-1.37c-.4-.4-.92-.59-1.43-.59-.52 0-1.04.2-1.43.59L10.3 9.45l-7.72 7.72c-.78.78-.78 2.05 0 2.83L4 21.41c.39.39.9.59 1.41.59.51 0 1.02-.2 1.41-.59l7.78-7.78 2.81-2.81c.8-.78.8-2.07 0-2.86zM5.41 20L4 18.59l7.72-7.72 1.47 1.35L5.41 20z\"/>\n",
              "  </svg>\n",
              "      </button>\n",
              "      \n",
              "  <style>\n",
              "    .colab-df-container {\n",
              "      display:flex;\n",
              "      flex-wrap:wrap;\n",
              "      gap: 12px;\n",
              "    }\n",
              "\n",
              "    .colab-df-convert {\n",
              "      background-color: #E8F0FE;\n",
              "      border: none;\n",
              "      border-radius: 50%;\n",
              "      cursor: pointer;\n",
              "      display: none;\n",
              "      fill: #1967D2;\n",
              "      height: 32px;\n",
              "      padding: 0 0 0 0;\n",
              "      width: 32px;\n",
              "    }\n",
              "\n",
              "    .colab-df-convert:hover {\n",
              "      background-color: #E2EBFA;\n",
              "      box-shadow: 0px 1px 2px rgba(60, 64, 67, 0.3), 0px 1px 3px 1px rgba(60, 64, 67, 0.15);\n",
              "      fill: #174EA6;\n",
              "    }\n",
              "\n",
              "    [theme=dark] .colab-df-convert {\n",
              "      background-color: #3B4455;\n",
              "      fill: #D2E3FC;\n",
              "    }\n",
              "\n",
              "    [theme=dark] .colab-df-convert:hover {\n",
              "      background-color: #434B5C;\n",
              "      box-shadow: 0px 1px 3px 1px rgba(0, 0, 0, 0.15);\n",
              "      filter: drop-shadow(0px 1px 2px rgba(0, 0, 0, 0.3));\n",
              "      fill: #FFFFFF;\n",
              "    }\n",
              "  </style>\n",
              "\n",
              "      <script>\n",
              "        const buttonEl =\n",
              "          document.querySelector('#df-0fab4ace-76f9-4a24-aa34-14a7f67f62c5 button.colab-df-convert');\n",
              "        buttonEl.style.display =\n",
              "          google.colab.kernel.accessAllowed ? 'block' : 'none';\n",
              "\n",
              "        async function convertToInteractive(key) {\n",
              "          const element = document.querySelector('#df-0fab4ace-76f9-4a24-aa34-14a7f67f62c5');\n",
              "          const dataTable =\n",
              "            await google.colab.kernel.invokeFunction('convertToInteractive',\n",
              "                                                     [key], {});\n",
              "          if (!dataTable) return;\n",
              "\n",
              "          const docLinkHtml = 'Like what you see? Visit the ' +\n",
              "            '<a target=\"_blank\" href=https://colab.research.google.com/notebooks/data_table.ipynb>data table notebook</a>'\n",
              "            + ' to learn more about interactive tables.';\n",
              "          element.innerHTML = '';\n",
              "          dataTable['output_type'] = 'display_data';\n",
              "          await google.colab.output.renderOutput(dataTable, element);\n",
              "          const docLink = document.createElement('div');\n",
              "          docLink.innerHTML = docLinkHtml;\n",
              "          element.appendChild(docLink);\n",
              "        }\n",
              "      </script>\n",
              "    </div>\n",
              "  </div>\n",
              "  "
            ]
          },
          "metadata": {},
          "execution_count": 4
        }
      ]
    },
    {
      "cell_type": "markdown",
      "source": [
        "#Pre-processing the data"
      ],
      "metadata": {
        "id": "AcdR4rQ-1XBi"
      }
    },
    {
      "cell_type": "markdown",
      "source": [
        "##Data Encoding"
      ],
      "metadata": {
        "id": "NaEjXCMwy2CS"
      }
    },
    {
      "cell_type": "code",
      "source": [
        "encoding_lable = preprocessing.LabelEncoder()\n",
        "df['Ratio Class']= encoding_lable.fit_transform(df['Ratio Percentage'])\n",
        "df = df.drop(columns='Ratio Percentage')\n",
        "df.sample(5)"
      ],
      "metadata": {
        "colab": {
          "base_uri": "https://localhost:8080/",
          "height": 204
        },
        "id": "OKYZ8j0z_Xyg",
        "outputId": "7f3d343e-14d6-4da5-cc07-743ad15e3335"
      },
      "execution_count": 5,
      "outputs": [
        {
          "output_type": "execute_result",
          "data": {
            "text/plain": [
              "    num_memories  num_mult  num_pre_packed_blocks  critical_path_delay  \\\n",
              "41             2         1                   4310              15.2835   \n",
              "19             2         1                   4310              14.3183   \n",
              "82             0         5                    923              22.2373   \n",
              "50             0        11                  31628              17.4507   \n",
              "51             0        11                  31628              17.2903   \n",
              "\n",
              "    Ratio Class  \n",
              "41            8  \n",
              "19            8  \n",
              "82            8  \n",
              "50            8  \n",
              "51            8  "
            ],
            "text/html": [
              "\n",
              "  <div id=\"df-210a53b3-a870-4228-86fc-fcfc0b67fc56\">\n",
              "    <div class=\"colab-df-container\">\n",
              "      <div>\n",
              "<style scoped>\n",
              "    .dataframe tbody tr th:only-of-type {\n",
              "        vertical-align: middle;\n",
              "    }\n",
              "\n",
              "    .dataframe tbody tr th {\n",
              "        vertical-align: top;\n",
              "    }\n",
              "\n",
              "    .dataframe thead th {\n",
              "        text-align: right;\n",
              "    }\n",
              "</style>\n",
              "<table border=\"1\" class=\"dataframe\">\n",
              "  <thead>\n",
              "    <tr style=\"text-align: right;\">\n",
              "      <th></th>\n",
              "      <th>num_memories</th>\n",
              "      <th>num_mult</th>\n",
              "      <th>num_pre_packed_blocks</th>\n",
              "      <th>critical_path_delay</th>\n",
              "      <th>Ratio Class</th>\n",
              "    </tr>\n",
              "  </thead>\n",
              "  <tbody>\n",
              "    <tr>\n",
              "      <th>41</th>\n",
              "      <td>2</td>\n",
              "      <td>1</td>\n",
              "      <td>4310</td>\n",
              "      <td>15.2835</td>\n",
              "      <td>8</td>\n",
              "    </tr>\n",
              "    <tr>\n",
              "      <th>19</th>\n",
              "      <td>2</td>\n",
              "      <td>1</td>\n",
              "      <td>4310</td>\n",
              "      <td>14.3183</td>\n",
              "      <td>8</td>\n",
              "    </tr>\n",
              "    <tr>\n",
              "      <th>82</th>\n",
              "      <td>0</td>\n",
              "      <td>5</td>\n",
              "      <td>923</td>\n",
              "      <td>22.2373</td>\n",
              "      <td>8</td>\n",
              "    </tr>\n",
              "    <tr>\n",
              "      <th>50</th>\n",
              "      <td>0</td>\n",
              "      <td>11</td>\n",
              "      <td>31628</td>\n",
              "      <td>17.4507</td>\n",
              "      <td>8</td>\n",
              "    </tr>\n",
              "    <tr>\n",
              "      <th>51</th>\n",
              "      <td>0</td>\n",
              "      <td>11</td>\n",
              "      <td>31628</td>\n",
              "      <td>17.2903</td>\n",
              "      <td>8</td>\n",
              "    </tr>\n",
              "  </tbody>\n",
              "</table>\n",
              "</div>\n",
              "      <button class=\"colab-df-convert\" onclick=\"convertToInteractive('df-210a53b3-a870-4228-86fc-fcfc0b67fc56')\"\n",
              "              title=\"Convert this dataframe to an interactive table.\"\n",
              "              style=\"display:none;\">\n",
              "        \n",
              "  <svg xmlns=\"http://www.w3.org/2000/svg\" height=\"24px\"viewBox=\"0 0 24 24\"\n",
              "       width=\"24px\">\n",
              "    <path d=\"M0 0h24v24H0V0z\" fill=\"none\"/>\n",
              "    <path d=\"M18.56 5.44l.94 2.06.94-2.06 2.06-.94-2.06-.94-.94-2.06-.94 2.06-2.06.94zm-11 1L8.5 8.5l.94-2.06 2.06-.94-2.06-.94L8.5 2.5l-.94 2.06-2.06.94zm10 10l.94 2.06.94-2.06 2.06-.94-2.06-.94-.94-2.06-.94 2.06-2.06.94z\"/><path d=\"M17.41 7.96l-1.37-1.37c-.4-.4-.92-.59-1.43-.59-.52 0-1.04.2-1.43.59L10.3 9.45l-7.72 7.72c-.78.78-.78 2.05 0 2.83L4 21.41c.39.39.9.59 1.41.59.51 0 1.02-.2 1.41-.59l7.78-7.78 2.81-2.81c.8-.78.8-2.07 0-2.86zM5.41 20L4 18.59l7.72-7.72 1.47 1.35L5.41 20z\"/>\n",
              "  </svg>\n",
              "      </button>\n",
              "      \n",
              "  <style>\n",
              "    .colab-df-container {\n",
              "      display:flex;\n",
              "      flex-wrap:wrap;\n",
              "      gap: 12px;\n",
              "    }\n",
              "\n",
              "    .colab-df-convert {\n",
              "      background-color: #E8F0FE;\n",
              "      border: none;\n",
              "      border-radius: 50%;\n",
              "      cursor: pointer;\n",
              "      display: none;\n",
              "      fill: #1967D2;\n",
              "      height: 32px;\n",
              "      padding: 0 0 0 0;\n",
              "      width: 32px;\n",
              "    }\n",
              "\n",
              "    .colab-df-convert:hover {\n",
              "      background-color: #E2EBFA;\n",
              "      box-shadow: 0px 1px 2px rgba(60, 64, 67, 0.3), 0px 1px 3px 1px rgba(60, 64, 67, 0.15);\n",
              "      fill: #174EA6;\n",
              "    }\n",
              "\n",
              "    [theme=dark] .colab-df-convert {\n",
              "      background-color: #3B4455;\n",
              "      fill: #D2E3FC;\n",
              "    }\n",
              "\n",
              "    [theme=dark] .colab-df-convert:hover {\n",
              "      background-color: #434B5C;\n",
              "      box-shadow: 0px 1px 3px 1px rgba(0, 0, 0, 0.15);\n",
              "      filter: drop-shadow(0px 1px 2px rgba(0, 0, 0, 0.3));\n",
              "      fill: #FFFFFF;\n",
              "    }\n",
              "  </style>\n",
              "\n",
              "      <script>\n",
              "        const buttonEl =\n",
              "          document.querySelector('#df-210a53b3-a870-4228-86fc-fcfc0b67fc56 button.colab-df-convert');\n",
              "        buttonEl.style.display =\n",
              "          google.colab.kernel.accessAllowed ? 'block' : 'none';\n",
              "\n",
              "        async function convertToInteractive(key) {\n",
              "          const element = document.querySelector('#df-210a53b3-a870-4228-86fc-fcfc0b67fc56');\n",
              "          const dataTable =\n",
              "            await google.colab.kernel.invokeFunction('convertToInteractive',\n",
              "                                                     [key], {});\n",
              "          if (!dataTable) return;\n",
              "\n",
              "          const docLinkHtml = 'Like what you see? Visit the ' +\n",
              "            '<a target=\"_blank\" href=https://colab.research.google.com/notebooks/data_table.ipynb>data table notebook</a>'\n",
              "            + ' to learn more about interactive tables.';\n",
              "          element.innerHTML = '';\n",
              "          dataTable['output_type'] = 'display_data';\n",
              "          await google.colab.output.renderOutput(dataTable, element);\n",
              "          const docLink = document.createElement('div');\n",
              "          docLink.innerHTML = docLinkHtml;\n",
              "          element.appendChild(docLink);\n",
              "        }\n",
              "      </script>\n",
              "    </div>\n",
              "  </div>\n",
              "  "
            ]
          },
          "metadata": {},
          "execution_count": 5
        }
      ]
    },
    {
      "cell_type": "code",
      "source": [
        "df = df.dropna()\n",
        "data = df.to_numpy()"
      ],
      "metadata": {
        "id": "vvL1BVq5_3jb"
      },
      "execution_count": 6,
      "outputs": []
    },
    {
      "cell_type": "markdown",
      "source": [
        "##Splitting the data set into train and test sets"
      ],
      "metadata": {
        "id": "sh9uIbuz4e9i"
      }
    },
    {
      "cell_type": "code",
      "source": [
        "X = data[:,0:4]\n",
        "y = data[:,4:]\n",
        "Y = pd.get_dummies(y.ravel()).values\n",
        "X_train, X_test, y_train, y_test = train_test_split(X, Y, test_size=0.2, random_state=0)"
      ],
      "metadata": {
        "id": "3APFgn00A6wd"
      },
      "execution_count": 7,
      "outputs": []
    },
    {
      "cell_type": "markdown",
      "source": [
        "##Normalizing the data"
      ],
      "metadata": {
        "id": "GWbMklfg0_DA"
      }
    },
    {
      "cell_type": "code",
      "source": [
        "#Scaling the data\n",
        "std_scaler = StandardScaler()\n",
        "X_train_scaled = std_scaler.fit_transform(X_train)\n",
        "X_test_scaled = std_scaler.transform(X_test)\n",
        "#Printing shape of train and test vectors\n",
        "print(\"X_train: Shape: \",X_train_scaled.shape)\n",
        "print(\"Y_train: Shape: \",y_train.shape)\n",
        "print(\"X_test:  Shape: \",X_test_scaled.shape)\n",
        "print(\"Y_test:  Shape: \",y_test.shape)"
      ],
      "metadata": {
        "id": "WTKWKp-mBPVj",
        "colab": {
          "base_uri": "https://localhost:8080/"
        },
        "outputId": "15f4c5c1-83e3-4200-8655-1f090be11ca9"
      },
      "execution_count": 8,
      "outputs": [
        {
          "output_type": "stream",
          "name": "stdout",
          "text": [
            "X_train: Shape:  (80, 4)\n",
            "Y_train: Shape:  (80, 9)\n",
            "X_test:  Shape:  (20, 4)\n",
            "Y_test:  Shape:  (20, 9)\n"
          ]
        }
      ]
    },
    {
      "cell_type": "markdown",
      "source": [
        "#Building the Neural Network Model"
      ],
      "metadata": {
        "id": "IoX6RcsuM0sh"
      }
    },
    {
      "cell_type": "markdown",
      "source": [
        "##Defining the model"
      ],
      "metadata": {
        "id": "S7vdJwDINBiz"
      }
    },
    {
      "cell_type": "code",
      "source": [
        "input_layer_neurons = 4\n",
        "hidden_layer_1_neurons = 64\n",
        "hidden_layer_2_neurons = 32\n",
        "output_layer_neurons = 9\n",
        "nn_model = tf.keras.Sequential([\n",
        "    tf.keras.layers.Dense(input_layer_neurons, activation='sigmoid'),\n",
        "    tf.keras.layers.Dense(hidden_layer_1_neurons, activation='sigmoid'),\n",
        "    tf.keras.layers.Dense(hidden_layer_2_neurons, activation='sigmoid'),\n",
        "    tf.keras.layers.Dense(output_layer_neurons, activation = 'softmax')\n",
        "  ])\n",
        "nn_model"
      ],
      "metadata": {
        "colab": {
          "base_uri": "https://localhost:8080/"
        },
        "id": "F0tzs2ZmBUFg",
        "outputId": "8cbf374d-8350-4434-842c-e04ed97c2cee"
      },
      "execution_count": 9,
      "outputs": [
        {
          "output_type": "execute_result",
          "data": {
            "text/plain": [
              "<keras.engine.sequential.Sequential at 0x7f8f0d550150>"
            ]
          },
          "metadata": {},
          "execution_count": 9
        }
      ]
    },
    {
      "cell_type": "markdown",
      "source": [
        "##Compiling the model"
      ],
      "metadata": {
        "id": "iK8l52LTNE3U"
      }
    },
    {
      "cell_type": "code",
      "source": [
        "nn_model.compile(optimizer= tf.keras.optimizers.Adam( learning_rate= 0.005),\n",
        "              loss='categorical_crossentropy',\n",
        "              metrics=['accuracy']\n",
        "              )"
      ],
      "metadata": {
        "id": "R_ckL9kIBiqX"
      },
      "execution_count": 10,
      "outputs": []
    },
    {
      "cell_type": "markdown",
      "source": [
        "##Fitting the model"
      ],
      "metadata": {
        "id": "7Ew5Rt_INLf-"
      }
    },
    {
      "cell_type": "code",
      "source": [
        "nn_model.fit(X_train_scaled, y_train, epochs=100)"
      ],
      "metadata": {
        "colab": {
          "base_uri": "https://localhost:8080/"
        },
        "id": "KuUfmxjmBl6A",
        "outputId": "b4aea2f9-7601-42f7-c1bb-c1d23d045a6a"
      },
      "execution_count": 11,
      "outputs": [
        {
          "output_type": "stream",
          "name": "stdout",
          "text": [
            "Epoch 1/100\n",
            "3/3 [==============================] - 1s 6ms/step - loss: 2.1086 - accuracy: 0.2000\n",
            "Epoch 2/100\n",
            "3/3 [==============================] - 0s 4ms/step - loss: 1.6754 - accuracy: 0.5625\n",
            "Epoch 3/100\n",
            "3/3 [==============================] - 0s 5ms/step - loss: 1.5403 - accuracy: 0.5625\n",
            "Epoch 4/100\n",
            "3/3 [==============================] - 0s 5ms/step - loss: 1.5225 - accuracy: 0.5625\n",
            "Epoch 5/100\n",
            "3/3 [==============================] - 0s 4ms/step - loss: 1.5223 - accuracy: 0.5625\n",
            "Epoch 6/100\n",
            "3/3 [==============================] - 0s 5ms/step - loss: 1.4993 - accuracy: 0.5625\n",
            "Epoch 7/100\n",
            "3/3 [==============================] - 0s 4ms/step - loss: 1.4773 - accuracy: 0.5625\n",
            "Epoch 8/100\n",
            "3/3 [==============================] - 0s 4ms/step - loss: 1.4590 - accuracy: 0.5625\n",
            "Epoch 9/100\n",
            "3/3 [==============================] - 0s 3ms/step - loss: 1.4588 - accuracy: 0.5625\n",
            "Epoch 10/100\n",
            "3/3 [==============================] - 0s 5ms/step - loss: 1.4593 - accuracy: 0.5625\n",
            "Epoch 11/100\n",
            "3/3 [==============================] - 0s 6ms/step - loss: 1.4514 - accuracy: 0.5625\n",
            "Epoch 12/100\n",
            "3/3 [==============================] - 0s 4ms/step - loss: 1.4408 - accuracy: 0.5625\n",
            "Epoch 13/100\n",
            "3/3 [==============================] - 0s 6ms/step - loss: 1.4378 - accuracy: 0.5625\n",
            "Epoch 14/100\n",
            "3/3 [==============================] - 0s 7ms/step - loss: 1.4419 - accuracy: 0.5625\n",
            "Epoch 15/100\n",
            "3/3 [==============================] - 0s 4ms/step - loss: 1.4395 - accuracy: 0.5625\n",
            "Epoch 16/100\n",
            "3/3 [==============================] - 0s 9ms/step - loss: 1.4368 - accuracy: 0.5625\n",
            "Epoch 17/100\n",
            "3/3 [==============================] - 0s 4ms/step - loss: 1.4336 - accuracy: 0.5625\n",
            "Epoch 18/100\n",
            "3/3 [==============================] - 0s 5ms/step - loss: 1.4378 - accuracy: 0.5625\n",
            "Epoch 19/100\n",
            "3/3 [==============================] - 0s 4ms/step - loss: 1.4355 - accuracy: 0.5625\n",
            "Epoch 20/100\n",
            "3/3 [==============================] - 0s 4ms/step - loss: 1.4299 - accuracy: 0.5625\n",
            "Epoch 21/100\n",
            "3/3 [==============================] - 0s 6ms/step - loss: 1.4272 - accuracy: 0.5625\n",
            "Epoch 22/100\n",
            "3/3 [==============================] - 0s 5ms/step - loss: 1.4245 - accuracy: 0.5625\n",
            "Epoch 23/100\n",
            "3/3 [==============================] - 0s 5ms/step - loss: 1.4258 - accuracy: 0.5625\n",
            "Epoch 24/100\n",
            "3/3 [==============================] - 0s 3ms/step - loss: 1.4213 - accuracy: 0.5625\n",
            "Epoch 25/100\n",
            "3/3 [==============================] - 0s 4ms/step - loss: 1.4185 - accuracy: 0.5625\n",
            "Epoch 26/100\n",
            "3/3 [==============================] - 0s 4ms/step - loss: 1.4173 - accuracy: 0.5625\n",
            "Epoch 27/100\n",
            "3/3 [==============================] - 0s 4ms/step - loss: 1.4120 - accuracy: 0.5625\n",
            "Epoch 28/100\n",
            "3/3 [==============================] - 0s 5ms/step - loss: 1.4075 - accuracy: 0.5625\n",
            "Epoch 29/100\n",
            "3/3 [==============================] - 0s 3ms/step - loss: 1.4066 - accuracy: 0.5625\n",
            "Epoch 30/100\n",
            "3/3 [==============================] - 0s 4ms/step - loss: 1.3997 - accuracy: 0.5625\n",
            "Epoch 31/100\n",
            "3/3 [==============================] - 0s 4ms/step - loss: 1.3949 - accuracy: 0.5625\n",
            "Epoch 32/100\n",
            "3/3 [==============================] - 0s 4ms/step - loss: 1.3927 - accuracy: 0.5625\n",
            "Epoch 33/100\n",
            "3/3 [==============================] - 0s 4ms/step - loss: 1.3859 - accuracy: 0.5625\n",
            "Epoch 34/100\n",
            "3/3 [==============================] - 0s 3ms/step - loss: 1.3785 - accuracy: 0.5625\n",
            "Epoch 35/100\n",
            "3/3 [==============================] - 0s 4ms/step - loss: 1.3677 - accuracy: 0.5625\n",
            "Epoch 36/100\n",
            "3/3 [==============================] - 0s 4ms/step - loss: 1.3592 - accuracy: 0.5625\n",
            "Epoch 37/100\n",
            "3/3 [==============================] - 0s 5ms/step - loss: 1.3485 - accuracy: 0.5625\n",
            "Epoch 38/100\n",
            "3/3 [==============================] - 0s 5ms/step - loss: 1.3368 - accuracy: 0.5625\n",
            "Epoch 39/100\n",
            "3/3 [==============================] - 0s 4ms/step - loss: 1.3260 - accuracy: 0.5625\n",
            "Epoch 40/100\n",
            "3/3 [==============================] - 0s 5ms/step - loss: 1.3099 - accuracy: 0.5625\n",
            "Epoch 41/100\n",
            "3/3 [==============================] - 0s 8ms/step - loss: 1.2964 - accuracy: 0.5625\n",
            "Epoch 42/100\n",
            "3/3 [==============================] - 0s 5ms/step - loss: 1.2725 - accuracy: 0.5625\n",
            "Epoch 43/100\n",
            "3/3 [==============================] - 0s 7ms/step - loss: 1.2486 - accuracy: 0.5625\n",
            "Epoch 44/100\n",
            "3/3 [==============================] - 0s 5ms/step - loss: 1.2207 - accuracy: 0.5625\n",
            "Epoch 45/100\n",
            "3/3 [==============================] - 0s 5ms/step - loss: 1.1978 - accuracy: 0.5625\n",
            "Epoch 46/100\n",
            "3/3 [==============================] - 0s 6ms/step - loss: 1.1684 - accuracy: 0.5625\n",
            "Epoch 47/100\n",
            "3/3 [==============================] - 0s 4ms/step - loss: 1.1396 - accuracy: 0.6000\n",
            "Epoch 48/100\n",
            "3/3 [==============================] - 0s 5ms/step - loss: 1.1086 - accuracy: 0.6875\n",
            "Epoch 49/100\n",
            "3/3 [==============================] - 0s 5ms/step - loss: 1.0859 - accuracy: 0.6875\n",
            "Epoch 50/100\n",
            "3/3 [==============================] - 0s 6ms/step - loss: 1.0577 - accuracy: 0.6875\n",
            "Epoch 51/100\n",
            "3/3 [==============================] - 0s 5ms/step - loss: 1.0329 - accuracy: 0.6750\n",
            "Epoch 52/100\n",
            "3/3 [==============================] - 0s 6ms/step - loss: 1.0085 - accuracy: 0.6750\n",
            "Epoch 53/100\n",
            "3/3 [==============================] - 0s 4ms/step - loss: 0.9884 - accuracy: 0.6750\n",
            "Epoch 54/100\n",
            "3/3 [==============================] - 0s 4ms/step - loss: 0.9667 - accuracy: 0.6750\n",
            "Epoch 55/100\n",
            "3/3 [==============================] - 0s 7ms/step - loss: 0.9469 - accuracy: 0.6750\n",
            "Epoch 56/100\n",
            "3/3 [==============================] - 0s 5ms/step - loss: 0.9322 - accuracy: 0.6750\n",
            "Epoch 57/100\n",
            "3/3 [==============================] - 0s 4ms/step - loss: 0.9206 - accuracy: 0.6750\n",
            "Epoch 58/100\n",
            "3/3 [==============================] - 0s 5ms/step - loss: 0.9043 - accuracy: 0.6750\n",
            "Epoch 59/100\n",
            "3/3 [==============================] - 0s 5ms/step - loss: 0.8906 - accuracy: 0.6750\n",
            "Epoch 60/100\n",
            "3/3 [==============================] - 0s 6ms/step - loss: 0.8789 - accuracy: 0.6750\n",
            "Epoch 61/100\n",
            "3/3 [==============================] - 0s 4ms/step - loss: 0.8669 - accuracy: 0.6750\n",
            "Epoch 62/100\n",
            "3/3 [==============================] - 0s 4ms/step - loss: 0.8531 - accuracy: 0.6750\n",
            "Epoch 63/100\n",
            "3/3 [==============================] - 0s 4ms/step - loss: 0.8429 - accuracy: 0.6750\n",
            "Epoch 64/100\n",
            "3/3 [==============================] - 0s 5ms/step - loss: 0.8330 - accuracy: 0.6750\n",
            "Epoch 65/100\n",
            "3/3 [==============================] - 0s 5ms/step - loss: 0.8218 - accuracy: 0.6750\n",
            "Epoch 66/100\n",
            "3/3 [==============================] - 0s 6ms/step - loss: 0.8137 - accuracy: 0.6750\n",
            "Epoch 67/100\n",
            "3/3 [==============================] - 0s 5ms/step - loss: 0.8094 - accuracy: 0.6750\n",
            "Epoch 68/100\n",
            "3/3 [==============================] - 0s 5ms/step - loss: 0.7937 - accuracy: 0.6750\n",
            "Epoch 69/100\n",
            "3/3 [==============================] - 0s 4ms/step - loss: 0.7869 - accuracy: 0.6750\n",
            "Epoch 70/100\n",
            "3/3 [==============================] - 0s 5ms/step - loss: 0.7783 - accuracy: 0.6750\n",
            "Epoch 71/100\n",
            "3/3 [==============================] - 0s 5ms/step - loss: 0.7703 - accuracy: 0.6750\n",
            "Epoch 72/100\n",
            "3/3 [==============================] - 0s 5ms/step - loss: 0.7638 - accuracy: 0.6750\n",
            "Epoch 73/100\n",
            "3/3 [==============================] - 0s 5ms/step - loss: 0.7547 - accuracy: 0.6750\n",
            "Epoch 74/100\n",
            "3/3 [==============================] - 0s 5ms/step - loss: 0.7462 - accuracy: 0.6750\n",
            "Epoch 75/100\n",
            "3/3 [==============================] - 0s 8ms/step - loss: 0.7377 - accuracy: 0.6750\n",
            "Epoch 76/100\n",
            "3/3 [==============================] - 0s 6ms/step - loss: 0.7304 - accuracy: 0.6750\n",
            "Epoch 77/100\n",
            "3/3 [==============================] - 0s 5ms/step - loss: 0.7244 - accuracy: 0.6750\n",
            "Epoch 78/100\n",
            "3/3 [==============================] - 0s 4ms/step - loss: 0.7174 - accuracy: 0.6750\n",
            "Epoch 79/100\n",
            "3/3 [==============================] - 0s 5ms/step - loss: 0.7109 - accuracy: 0.6750\n",
            "Epoch 80/100\n",
            "3/3 [==============================] - 0s 4ms/step - loss: 0.7045 - accuracy: 0.6750\n",
            "Epoch 81/100\n",
            "3/3 [==============================] - 0s 6ms/step - loss: 0.6990 - accuracy: 0.6750\n",
            "Epoch 82/100\n",
            "3/3 [==============================] - 0s 6ms/step - loss: 0.6958 - accuracy: 0.6750\n",
            "Epoch 83/100\n",
            "3/3 [==============================] - 0s 6ms/step - loss: 0.6922 - accuracy: 0.6750\n",
            "Epoch 84/100\n",
            "3/3 [==============================] - 0s 5ms/step - loss: 0.6863 - accuracy: 0.7125\n",
            "Epoch 85/100\n",
            "3/3 [==============================] - 0s 6ms/step - loss: 0.6857 - accuracy: 0.7125\n",
            "Epoch 86/100\n",
            "3/3 [==============================] - 0s 5ms/step - loss: 0.6760 - accuracy: 0.7000\n",
            "Epoch 87/100\n",
            "3/3 [==============================] - 0s 5ms/step - loss: 0.6729 - accuracy: 0.7000\n",
            "Epoch 88/100\n",
            "3/3 [==============================] - 0s 4ms/step - loss: 0.6679 - accuracy: 0.7000\n",
            "Epoch 89/100\n",
            "3/3 [==============================] - 0s 5ms/step - loss: 0.6607 - accuracy: 0.7125\n",
            "Epoch 90/100\n",
            "3/3 [==============================] - 0s 4ms/step - loss: 0.6547 - accuracy: 0.7125\n",
            "Epoch 91/100\n",
            "3/3 [==============================] - 0s 5ms/step - loss: 0.6564 - accuracy: 0.7125\n",
            "Epoch 92/100\n",
            "3/3 [==============================] - 0s 6ms/step - loss: 0.6507 - accuracy: 0.7125\n",
            "Epoch 93/100\n",
            "3/3 [==============================] - 0s 5ms/step - loss: 0.6473 - accuracy: 0.7125\n",
            "Epoch 94/100\n",
            "3/3 [==============================] - 0s 5ms/step - loss: 0.6428 - accuracy: 0.7125\n",
            "Epoch 95/100\n",
            "3/3 [==============================] - 0s 6ms/step - loss: 0.6373 - accuracy: 0.7125\n",
            "Epoch 96/100\n",
            "3/3 [==============================] - 0s 5ms/step - loss: 0.6335 - accuracy: 0.7125\n",
            "Epoch 97/100\n",
            "3/3 [==============================] - 0s 5ms/step - loss: 0.6295 - accuracy: 0.7125\n",
            "Epoch 98/100\n",
            "3/3 [==============================] - 0s 6ms/step - loss: 0.6267 - accuracy: 0.7125\n",
            "Epoch 99/100\n",
            "3/3 [==============================] - 0s 6ms/step - loss: 0.6245 - accuracy: 0.7125\n",
            "Epoch 100/100\n",
            "3/3 [==============================] - 0s 4ms/step - loss: 0.6218 - accuracy: 0.7125\n"
          ]
        },
        {
          "output_type": "execute_result",
          "data": {
            "text/plain": [
              "<keras.callbacks.History at 0x7f8f09f9bd90>"
            ]
          },
          "metadata": {},
          "execution_count": 11
        }
      ]
    },
    {
      "cell_type": "markdown",
      "source": [
        "#Evaluating the model"
      ],
      "metadata": {
        "id": "W5kI4wmSNYcV"
      }
    },
    {
      "cell_type": "markdown",
      "source": [
        "##Calculating evaluating metrics"
      ],
      "metadata": {
        "id": "owy_jLO4NbO1"
      }
    },
    {
      "cell_type": "code",
      "source": [
        "loss, accuracy = nn_model.evaluate(X_test_scaled, y_test, verbose=0)\n",
        "accuracy = accuracy*100\n",
        "print('Test loss:', loss)\n",
        "print('Test accuracy:', accuracy, \" %\")"
      ],
      "metadata": {
        "colab": {
          "base_uri": "https://localhost:8080/"
        },
        "id": "LlJy_v1AB27e",
        "outputId": "b1ef46f8-2f1f-447c-a2d5-04b312114df6"
      },
      "execution_count": 12,
      "outputs": [
        {
          "output_type": "stream",
          "name": "stdout",
          "text": [
            "Test loss: 0.9750712513923645\n",
            "Test accuracy: 64.99999761581421  %\n"
          ]
        }
      ]
    },
    {
      "cell_type": "markdown",
      "source": [
        "##Predicting results"
      ],
      "metadata": {
        "id": "2aYS6VPjOjbH"
      }
    },
    {
      "cell_type": "code",
      "source": [
        "y_pred =nn_model.predict(X_test_scaled)\n",
        "actual = np.argmax(y_test,axis=1)\n",
        "predicted = np.argmax(y_pred,axis=1)\n",
        "print(f\"Actual: {actual}\")\n",
        "print(f\"Predicted: {predicted}\")"
      ],
      "metadata": {
        "colab": {
          "base_uri": "https://localhost:8080/"
        },
        "id": "dNN0Bsj7B87H",
        "outputId": "e04dfdf2-9ecd-4728-f518-35d1fc18193b"
      },
      "execution_count": 13,
      "outputs": [
        {
          "output_type": "stream",
          "name": "stdout",
          "text": [
            "Actual: [0 8 8 8 1 6 8 1 8 6 8 5 8 8 4 8 4 8 8 2]\n",
            "Predicted: [1 8 8 8 1 7 8 1 8 7 8 7 8 8 8 8 8 8 8 1]\n"
          ]
        }
      ]
    },
    {
      "cell_type": "markdown",
      "source": [
        "##Evaluation Results"
      ],
      "metadata": {
        "id": "imWl0OZdOpqy"
      }
    },
    {
      "cell_type": "code",
      "source": [
        "cnf_mt = metrics.confusion_matrix(actual, predicted)\n",
        "plt.figure(figsize=(9,9))\n",
        "sns.heatmap(cnf_mt, annot=True, fmt=\".1f\", linewidths=.5, square = True, cmap = 'Blues_r');\n",
        "plt.ylabel('Actual label');\n",
        "plt.xlabel('Predicted label');\n",
        "all_sample_title = 'Accuracy Score: {0}'.format(accuracy)\n",
        "plt.title(all_sample_title, size = 15);\n",
        "precision = metrics.precision_score(actual, predicted, average='macro')*100\n",
        "recall = metrics.recall_score(actual, predicted, average='macro')*100\n",
        "plt.savefig('cm1_nn.png')"
      ],
      "metadata": {
        "colab": {
          "base_uri": "https://localhost:8080/",
          "height": 614
        },
        "id": "lSH8FufxVDxF",
        "outputId": "256d37de-4f59-411d-9b9f-b62bbb25d0d0"
      },
      "execution_count": 14,
      "outputs": [
        {
          "output_type": "stream",
          "name": "stderr",
          "text": [
            "/usr/local/lib/python3.7/dist-packages/sklearn/metrics/_classification.py:1318: UndefinedMetricWarning: Precision is ill-defined and being set to 0.0 in labels with no predicted samples. Use `zero_division` parameter to control this behavior.\n",
            "  _warn_prf(average, modifier, msg_start, len(result))\n",
            "/usr/local/lib/python3.7/dist-packages/sklearn/metrics/_classification.py:1318: UndefinedMetricWarning: Recall is ill-defined and being set to 0.0 in labels with no true samples. Use `zero_division` parameter to control this behavior.\n",
            "  _warn_prf(average, modifier, msg_start, len(result))\n"
          ]
        },
        {
          "output_type": "display_data",
          "data": {
            "text/plain": [
              "<Figure size 648x648 with 2 Axes>"
            ],
            "image/png": "[encoded data removed]"
          },
          "metadata": {
            "needs_background": "light"
          }
        }
      ]
    },
    {
      "cell_type": "code",
      "source": [
        "metric = [accuracy, precision, recall]\n",
        "lables=['Accuracy: '+str(round(accuracy,2))+'%', 'Precision: '+str(round(precision,2))+'%', 'Recall: '+str(round(recall,2))+'%']\n",
        "xpos = np.arange(len(lables))\n",
        "plt.bar(xpos, metric,width = .3, color=['crimson', 'yellowgreen', 'royalblue'])\n",
        "plt.xticks(xpos, lables)\n",
        "x1,x2,y1,y2 = plt.axis()  \n",
        "plt.axis((x1,x2,y1,100))\n",
        "plt.grid()\n",
        "plt.xlabel('Evaluation Metrics')\n",
        "plt.ylabel('Metric Value')\n",
        "plt.title(\"Performance of Model\")\n",
        "plt.savefig('g1_nn.png')\n",
        "plt.show()"
      ],
      "metadata": {
        "colab": {
          "base_uri": "https://localhost:8080/",
          "height": 295
        },
        "id": "AMIfvtRlVJYb",
        "outputId": "4d6335a5-5c98-4fd5-bd03-bc5c657d8b46"
      },
      "execution_count": 15,
      "outputs": [
        {
          "output_type": "display_data",
          "data": {
            "text/plain": [
              "<Figure size 432x288 with 1 Axes>"
            ],
            "image/png": "[encoded data removed]"
          },
          "metadata": {
            "needs_background": "light"
          }
        }
      ]
    },
    {
      "cell_type": "markdown",
      "source": [
        "#References"
      ],
      "metadata": {
        "id": "ijarePd9Hn3o"
      }
    },
    {
      "cell_type": "markdown",
      "source": [
        "\n",
        "[1] T. Developers, TensorFlow. Zenodo, 2022.\n",
        "$$$$\n",
        "[2] F. Pedregosa κ.ά., ‘Scikit-learn: Machine Learning in Python’, Journal of Machine Learning Research, τ. 12, σσ. 2825–2830, 2011."
      ],
      "metadata": {
        "id": "sCGbDlpUHVJn"
      }
    }
  ]
}